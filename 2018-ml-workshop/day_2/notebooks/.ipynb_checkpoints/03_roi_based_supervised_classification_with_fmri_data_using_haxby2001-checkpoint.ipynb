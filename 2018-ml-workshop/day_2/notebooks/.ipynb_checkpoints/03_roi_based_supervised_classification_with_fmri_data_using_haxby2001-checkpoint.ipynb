{
 "cells": [
  {
   "cell_type": "markdown",
   "metadata": {},
   "source": [
    "\n",
    "ROI-based decoding analysis using the Haxby et al. 2001 dataset\n",
    "=====================================================\n",
    "\n",
    "Here we will reproduce the data analysis conducted by\n",
    "Haxby et al. in:\n",
    "\n",
    "[Distributed and Overlapping Representations of Faces and\n",
    "Objects in Ventral Temporal Cortex](https://www.ncbi.nlm.nih.gov/pubmed/11577229)\n",
    "\n",
    "Specifically, we look at decoding accuracy for different objects in\n",
    "three different masks: the full ventral stream (`mask_vt`), the house\n",
    "selective areas (`mask_house`) and the face selective areas (`mask_face`),\n",
    "that have been defined via a standard GLM-based analysis."
   ]
  },
  {
   "cell_type": "code",
   "execution_count": 9,
   "metadata": {},
   "outputs": [],
   "source": [
    "from nilearn import datasets\n",
    "import pandas as pd\n",
    "import numpy as np\n",
    "from scipy.stats import sem\n",
    "import seaborn as sns\n",
    "import matplotlib.pyplot as plt\n",
    "%matplotlib inline"
   ]
  },
  {
   "cell_type": "code",
   "execution_count": 2,
   "metadata": {},
   "outputs": [],
   "source": [
    "import warnings\n",
    "warnings.filterwarnings('ignore')"
   ]
  },
  {
   "cell_type": "code",
   "execution_count": 3,
   "metadata": {},
   "outputs": [],
   "source": [
    "sns.set_context(\"poster\")"
   ]
  },
  {
   "cell_type": "markdown",
   "metadata": {},
   "source": [
    "First we load and prepare the data\n",
    "-----------------------------------\n",
    "Fetch data using nilearn dataset fetcher\n",
    "\n"
   ]
  },
  {
   "cell_type": "code",
   "execution_count": 4,
   "metadata": {},
   "outputs": [
    {
     "name": "stdout",
     "output_type": "stream",
     "text": [
      "\n",
      "Dataset created in /Users/suesong/nilearn_data/haxby2001\n",
      "\n",
      "Downloading data from https://www.nitrc.org/frs/download.php/7868/mask.nii.gz ...\n"
     ]
    },
    {
     "name": "stderr",
     "output_type": "stream",
     "text": [
      "\r",
      "Downloaded 2969 of 2969 bytes (100.0%,    0.0s remaining) ...done. (1 seconds, 0 min)\n"
     ]
    },
    {
     "name": "stdout",
     "output_type": "stream",
     "text": [
      "Downloading data from http://data.pymvpa.org/datasets/haxby2001/MD5SUMS ...\n"
     ]
    },
    {
     "name": "stderr",
     "output_type": "stream",
     "text": [
      "\r",
      "Downloaded 408 of 408 bytes (100.0%,    0.0s remaining) ...done. (0 seconds, 0 min)\n"
     ]
    },
    {
     "name": "stdout",
     "output_type": "stream",
     "text": [
      "Downloading data from http://data.pymvpa.org/datasets/haxby2001/subj1-2010.01.14.tar.gz ...\n"
     ]
    },
    {
     "name": "stderr",
     "output_type": "stream",
     "text": [
      "Downloaded 314803244 of 314803244 bytes (100.0%,    0.0s remaining) ...done. (688 seconds, 11 min)\n",
      "Extracting data from /Users/suesong/nilearn_data/haxby2001/d1443f4ed1a3970a3d45bab61a830819/subj1-2010.01.14.tar.gz..... done.\n"
     ]
    },
    {
     "name": "stdout",
     "output_type": "stream",
     "text": [
      "Downloading data from http://data.pymvpa.org/datasets/haxby2001/subj2-2010.01.14.tar.gz ...\n"
     ]
    },
    {
     "name": "stderr",
     "output_type": "stream",
     "text": [
      "Downloaded 291168628 of 291168628 bytes (100.0%,    0.0s remaining) ...done. (952 seconds, 15 min)\n",
      "Extracting data from /Users/suesong/nilearn_data/haxby2001/d1443f4ed1a3970a3d45bab61a830819/subj2-2010.01.14.tar.gz..... done.\n"
     ]
    },
    {
     "name": "stdout",
     "output_type": "stream",
     "text": [
      "Downloading data from http://data.pymvpa.org/datasets/haxby2001/subj3-2010.01.14.tar.gz ...\n"
     ]
    },
    {
     "name": "stderr",
     "output_type": "stream",
     "text": [
      "Downloaded 296936090 of 296936090 bytes (100.0%,    0.0s remaining) ...done. (1342 seconds, 22 min)\n",
      "Extracting data from /Users/suesong/nilearn_data/haxby2001/d1443f4ed1a3970a3d45bab61a830819/subj3-2010.01.14.tar.gz..... done.\n"
     ]
    },
    {
     "name": "stdout",
     "output_type": "stream",
     "text": [
      "Downloading data from http://data.pymvpa.org/datasets/haxby2001/subj4-2010.01.14.tar.gz ...\n"
     ]
    },
    {
     "name": "stderr",
     "output_type": "stream",
     "text": [
      "Downloaded 329954386 of 329954386 bytes (100.0%,    0.0s remaining) ...done. (1566 seconds, 26 min)\n",
      "Extracting data from /Users/suesong/nilearn_data/haxby2001/d1443f4ed1a3970a3d45bab61a830819/subj4-2010.01.14.tar.gz..... done.\n"
     ]
    },
    {
     "name": "stdout",
     "output_type": "stream",
     "text": [
      "Downloading data from http://data.pymvpa.org/datasets/haxby2001/subj5-2010.01.14.tar.gz ...\n"
     ]
    },
    {
     "name": "stderr",
     "output_type": "stream",
     "text": [
      "Downloaded 322730263 of 322730263 bytes (100.0%,    0.0s remaining) ...done. (1595 seconds, 26 min)\n",
      "Extracting data from /Users/suesong/nilearn_data/haxby2001/d1443f4ed1a3970a3d45bab61a830819/subj5-2010.01.14.tar.gz..... done.\n"
     ]
    },
    {
     "name": "stdout",
     "output_type": "stream",
     "text": [
      "Downloading data from http://data.pymvpa.org/datasets/haxby2001/subj6-2010.01.14.tar.gz ...\n"
     ]
    },
    {
     "name": "stderr",
     "output_type": "stream",
     "text": [
      "Downloaded 322839597 of 322839597 bytes (100.0%,    0.0s remaining) ...done. (1267 seconds, 21 min)\n",
      "Extracting data from /Users/suesong/nilearn_data/haxby2001/d1443f4ed1a3970a3d45bab61a830819/subj6-2010.01.14.tar.gz..."
     ]
    },
    {
     "name": "stdout",
     "output_type": "stream",
     "text": [
      "First subject anatomical nifti image (3D) located is at: /Users/suesong/nilearn_data/haxby2001/subj1/anat.nii.gz\n",
      "First subject functional nifti image (4D) is located at: /Users/suesong/nilearn_data/haxby2001/subj1/bold.nii.gz\n"
     ]
    },
    {
     "name": "stderr",
     "output_type": "stream",
     "text": [
      ".. done.\n"
     ]
    }
   ],
   "source": [
    "# by default we will fetch all subject data for analysis here\n",
    "subs = 6\n",
    "haxby_dataset = datasets.fetch_haxby(subjects=subs)\n",
    "\n",
    "# Print basic information on the dataset\n",
    "print('First subject anatomical nifti image (3D) located is at: %s' %\n",
    "      haxby_dataset.anat[0])\n",
    "print('First subject functional nifti image (4D) is located at: %s' %\n",
    "      haxby_dataset.func[0])"
   ]
  },
  {
   "cell_type": "code",
   "execution_count": 5,
   "metadata": {},
   "outputs": [
    {
     "data": {
      "text/plain": [
       "dict_keys(['anat', 'func', 'session_target', 'mask_vt', 'mask_face', 'mask_house', 'mask_face_little', 'mask_house_little', 'mask', 'description'])"
      ]
     },
     "execution_count": 5,
     "metadata": {},
     "output_type": "execute_result"
    }
   ],
   "source": [
    "haxby_dataset.keys()"
   ]
  },
  {
   "cell_type": "code",
   "execution_count": 6,
   "metadata": {},
   "outputs": [
    {
     "data": {
      "text/plain": [
       "['/Users/sergeyfogelson/nilearn_data/haxby2001/subj1/anat.nii.gz',\n",
       " '/Users/sergeyfogelson/nilearn_data/haxby2001/subj2/anat.nii.gz',\n",
       " '/Users/sergeyfogelson/nilearn_data/haxby2001/subj3/anat.nii.gz',\n",
       " '/Users/sergeyfogelson/nilearn_data/haxby2001/subj4/anat.nii.gz',\n",
       " '/Users/sergeyfogelson/nilearn_data/haxby2001/subj5/anat.nii.gz',\n",
       " None]"
      ]
     },
     "execution_count": 6,
     "metadata": {},
     "output_type": "execute_result"
    }
   ],
   "source": [
    "haxby_dataset.anat"
   ]
  },
  {
   "cell_type": "code",
   "execution_count": 7,
   "metadata": {},
   "outputs": [
    {
     "data": {
      "text/plain": [
       "['/Users/sergeyfogelson/nilearn_data/haxby2001/subj1/bold.nii.gz',\n",
       " '/Users/sergeyfogelson/nilearn_data/haxby2001/subj2/bold.nii.gz',\n",
       " '/Users/sergeyfogelson/nilearn_data/haxby2001/subj3/bold.nii.gz',\n",
       " '/Users/sergeyfogelson/nilearn_data/haxby2001/subj4/bold.nii.gz',\n",
       " '/Users/sergeyfogelson/nilearn_data/haxby2001/subj5/bold.nii.gz',\n",
       " '/Users/sergeyfogelson/nilearn_data/haxby2001/subj6/bold.nii.gz']"
      ]
     },
     "execution_count": 7,
     "metadata": {},
     "output_type": "execute_result"
    }
   ],
   "source": [
    "haxby_dataset.func"
   ]
  },
  {
   "cell_type": "code",
   "execution_count": 8,
   "metadata": {},
   "outputs": [
    {
     "data": {
      "text/plain": [
       "['/Users/sergeyfogelson/nilearn_data/haxby2001/subj1/labels.txt',\n",
       " '/Users/sergeyfogelson/nilearn_data/haxby2001/subj2/labels.txt',\n",
       " '/Users/sergeyfogelson/nilearn_data/haxby2001/subj3/labels.txt',\n",
       " '/Users/sergeyfogelson/nilearn_data/haxby2001/subj4/labels.txt',\n",
       " '/Users/sergeyfogelson/nilearn_data/haxby2001/subj5/labels.txt',\n",
       " '/Users/sergeyfogelson/nilearn_data/haxby2001/subj6/labels.txt']"
      ]
     },
     "execution_count": 8,
     "metadata": {},
     "output_type": "execute_result"
    }
   ],
   "source": [
    "haxby_dataset.session_target"
   ]
  },
  {
   "cell_type": "code",
   "execution_count": 10,
   "metadata": {},
   "outputs": [],
   "source": [
    "# Load nilearn NiftiMasker, the practical masking and unmasking tool\n",
    "from nilearn.input_data import NiftiMasker"
   ]
  },
  {
   "cell_type": "code",
   "execution_count": 28,
   "metadata": {},
   "outputs": [],
   "source": [
    "# load labels for first subject\n",
    "labels_subj1 = pd.read_csv(haxby_dataset.session_target[0], sep=\" \")\n",
    "stimuli_subj1 = labels_subj1['labels']\n",
    "# identify resting state labels in order to be able to remove them\n",
    "task_mask_subj1 = (stimuli_subj1 != 'rest')\n",
    "\n",
    "# find names of remaining active labels\n",
    "categories = stimuli_subj1[task_mask_subj1].unique()\n",
    "\n",
    "# extract tags indicating to which acquisition run a tag belongs\n",
    "session_labels_subj1 = labels_subj1[\"chunks\"][task_mask_subj1]"
   ]
  },
  {
   "cell_type": "markdown",
   "metadata": {},
   "source": [
    "Lets wrap this process in a function:"
   ]
  },
  {
   "cell_type": "code",
   "execution_count": 29,
   "metadata": {},
   "outputs": [],
   "source": [
    "def get_subject_task_and_session_data(subj_num):\n",
    "    labels_subj = pd.read_csv(haxby_dataset.session_target[subj_num], sep=\" \")\n",
    "    stimuli_subj = labels_subj['labels']\n",
    "    # identify resting state labels in order to be able to remove them\n",
    "    task_mask_subj = (stimuli_subj != 'rest')\n",
    "    # extract tags indicating to which acquisition run a tag belongs\n",
    "    session_labels_subj = labels_subj[\"chunks\"][task_mask_subj]\n",
    "    \n",
    "    return (stimuli_subj,task_mask_subj,session_labels_subj)"
   ]
  },
  {
   "cell_type": "markdown",
   "metadata": {},
   "source": [
    "All object categories in the dataset:"
   ]
  },
  {
   "cell_type": "code",
   "execution_count": 21,
   "metadata": {},
   "outputs": [
    {
     "data": {
      "text/plain": [
       "array(['scissors', 'face', 'cat', 'shoe', 'house', 'scrambledpix',\n",
       "       'bottle', 'chair'], dtype=object)"
      ]
     },
     "execution_count": 21,
     "metadata": {},
     "output_type": "execute_result"
    }
   ],
   "source": [
    "categories"
   ]
  },
  {
   "cell_type": "markdown",
   "metadata": {},
   "source": [
    "Functional runs in the dataset:"
   ]
  },
  {
   "cell_type": "code",
   "execution_count": 22,
   "metadata": {},
   "outputs": [
    {
     "data": {
      "text/plain": [
       "array([ 0,  1,  2,  3,  4,  5,  6,  7,  8,  9, 10, 11])"
      ]
     },
     "execution_count": 22,
     "metadata": {},
     "output_type": "execute_result"
    }
   ],
   "source": [
    "session_labels_subj1.unique()"
   ]
  },
  {
   "cell_type": "markdown",
   "metadata": {},
   "source": [
    "Now we can use scikit-learn for decoding on the different masks\n",
    "-------------------------------------------------------------"
   ]
  },
  {
   "cell_type": "code",
   "execution_count": 267,
   "metadata": {},
   "outputs": [],
   "source": [
    "from sklearn.svm import SVC, LinearSVC\n",
    "classifier = SVC(C=1., kernel=\"linear\")\n",
    "\n",
    "# A classifier to set the chance level\n",
    "from sklearn.dummy import DummyClassifier\n",
    "dummy_classifier = DummyClassifier()\n",
    "\n",
    "# Make a data splitting object for cross validation\n",
    "from sklearn.model_selection import LeaveOneGroupOut, cross_val_score\n",
    "cv = LeaveOneGroupOut()\n",
    "\n",
    "mask_names = ['mask_vt', 'mask_face', 'mask_house']\n",
    "\n",
    "mask_scores = {}\n",
    "mask_chance_scores = {}"
   ]
  },
  {
   "cell_type": "markdown",
   "metadata": {},
   "source": [
    "Let's do this with our first subject, using only the face and house categories, and then create a function that can work on a per-subject basis.\n",
    "\n",
    "Notice that we are using `stimuli_subj1`,`task_mask_subj1`,and `session_labels_subj1` from earlier:"
   ]
  },
  {
   "cell_type": "code",
   "execution_count": 44,
   "metadata": {},
   "outputs": [],
   "source": [
    "face_house_only = stimuli_subj1.isin([\"face\",'house'])\n",
    "task_mask_subj1_facehouse_only = face_house_only\n",
    "session_labels_subj1_facehouse_only = session_labels_subj1[face_house_only]"
   ]
  },
  {
   "cell_type": "code",
   "execution_count": 43,
   "metadata": {},
   "outputs": [
    {
     "name": "stdout",
     "output_type": "stream",
     "text": [
      "Working on mask mask_vt\n",
      "Processing mask_vt\n",
      "Scores: 1.00 +- 0.00\n",
      "Chance Scores: 0.49 +- 0.10\n",
      "Working on mask mask_face\n",
      "Processing mask_face\n",
      "Scores: 0.87 +- 0.15\n",
      "Chance Scores: 0.47 +- 0.08\n",
      "Working on mask mask_house\n",
      "Processing mask_house\n",
      "Scores: 0.99 +- 0.03\n",
      "Chance Scores: 0.49 +- 0.12\n"
     ]
    }
   ],
   "source": [
    "for mask_name in mask_names:\n",
    "    \n",
    "    print(\"Working on mask %s\" % mask_name)\n",
    "    \n",
    "    mask_filename = haxby_dataset[mask_name][0]\n",
    "    # For decoding, standardizing is often very important, here we define the series of transformations we want\n",
    "    # to perform, which is masking with the specific ROI, and standardizing each voxel's timeseries\n",
    "    masker = NiftiMasker(mask_img=mask_filename, standardize=True) #standard scaling the timeseries at each voxel location to have mean 0 variance 1\n",
    "    # apply the tra\n",
    "    masked_timecourses = masker.fit_transform(haxby_dataset.func[0])[task_mask_subj1_facehouse_only]\n",
    "\n",
    "    mask_scores[mask_name] = {}\n",
    "    mask_chance_scores[mask_name] = {}\n",
    "    \n",
    "    print(\"Processing %s\" % (mask_name))\n",
    "    #must binarize the categories and make one of the categories the \"positive\" category, doesnt matter what you pick\n",
    "    classification_target = (stimuli_subj1[task_mask_subj1_facehouse_only] == \"face\")\n",
    "    mask_scores[mask_name] = cross_val_score(\n",
    "        classifier,\n",
    "        masked_timecourses,\n",
    "        classification_target,\n",
    "        cv=cv,\n",
    "        groups=session_labels_subj1_facehouse_only,\n",
    "        scoring=\"accuracy\",\n",
    "    )\n",
    "\n",
    "    mask_chance_scores[mask_name] = cross_val_score(\n",
    "        dummy_classifier,\n",
    "        masked_timecourses,\n",
    "        classification_target,\n",
    "        cv=cv,\n",
    "        groups=session_labels_subj1_facehouse_only,\n",
    "        scoring=\"accuracy\",\n",
    "    )\n",
    "    print(\"Scores: %1.2f +- %1.2f\" % (\n",
    "        mask_scores[mask_name].mean(),\n",
    "        mask_scores[mask_name].std()))\n",
    "    print(\"Chance Scores: %1.2f +- %1.2f\" % (\n",
    "        mask_chance_scores[mask_name].mean(),\n",
    "        mask_chance_scores[mask_name].std()))"
   ]
  },
  {
   "cell_type": "markdown",
   "metadata": {},
   "source": [
    "We can easily extend this approach to all categories by putting the classification work inside a for-loop, one per category:"
   ]
  },
  {
   "cell_type": "code",
   "execution_count": 46,
   "metadata": {},
   "outputs": [
    {
     "name": "stdout",
     "output_type": "stream",
     "text": [
      "Working on mask mask_vt\n",
      "Processing mask_vt scissors\n",
      "Scores: 0.91 +- 0.09\n",
      "Chance Scores: 0.77 +- 0.04\n",
      "Processing mask_vt face\n",
      "Scores: 0.95 +- 0.04\n",
      "Chance Scores: 0.79 +- 0.04\n",
      "Processing mask_vt cat\n",
      "Scores: 0.88 +- 0.06\n",
      "Chance Scores: 0.78 +- 0.04\n",
      "Processing mask_vt shoe\n",
      "Scores: 0.89 +- 0.03\n",
      "Chance Scores: 0.77 +- 0.02\n",
      "Processing mask_vt house\n",
      "Scores: 1.00 +- 0.01\n",
      "Chance Scores: 0.79 +- 0.04\n",
      "Processing mask_vt scrambledpix\n",
      "Scores: 0.97 +- 0.02\n",
      "Chance Scores: 0.78 +- 0.05\n",
      "Processing mask_vt bottle\n",
      "Scores: 0.89 +- 0.04\n",
      "Chance Scores: 0.78 +- 0.04\n",
      "Processing mask_vt chair\n",
      "Scores: 0.93 +- 0.03\n",
      "Chance Scores: 0.77 +- 0.04\n",
      "Working on mask mask_face\n",
      "Processing mask_face scissors\n",
      "Scores: 0.88 +- 0.00\n",
      "Chance Scores: 0.79 +- 0.04\n",
      "Processing mask_face face\n",
      "Scores: 0.87 +- 0.05\n",
      "Chance Scores: 0.78 +- 0.04\n",
      "Processing mask_face cat\n",
      "Scores: 0.88 +- 0.02\n",
      "Chance Scores: 0.78 +- 0.03\n",
      "Processing mask_face shoe\n",
      "Scores: 0.88 +- 0.00\n",
      "Chance Scores: 0.78 +- 0.03\n",
      "Processing mask_face house\n",
      "Scores: 0.88 +- 0.00\n",
      "Chance Scores: 0.79 +- 0.04\n",
      "Processing mask_face scrambledpix\n",
      "Scores: 0.89 +- 0.05\n",
      "Chance Scores: 0.76 +- 0.02\n",
      "Processing mask_face bottle\n",
      "Scores: 0.88 +- 0.00\n",
      "Chance Scores: 0.76 +- 0.04\n",
      "Processing mask_face chair\n",
      "Scores: 0.88 +- 0.00\n",
      "Chance Scores: 0.78 +- 0.05\n",
      "Working on mask mask_house\n",
      "Processing mask_house scissors\n",
      "Scores: 0.86 +- 0.08\n",
      "Chance Scores: 0.77 +- 0.03\n",
      "Processing mask_house face\n",
      "Scores: 0.84 +- 0.13\n",
      "Chance Scores: 0.80 +- 0.03\n",
      "Processing mask_house cat\n",
      "Scores: 0.81 +- 0.13\n",
      "Chance Scores: 0.80 +- 0.04\n",
      "Processing mask_house shoe\n",
      "Scores: 0.80 +- 0.12\n",
      "Chance Scores: 0.78 +- 0.03\n",
      "Processing mask_house house\n",
      "Scores: 0.99 +- 0.02\n",
      "Chance Scores: 0.78 +- 0.04\n",
      "Processing mask_house scrambledpix\n",
      "Scores: 0.88 +- 0.09\n",
      "Chance Scores: 0.78 +- 0.04\n",
      "Processing mask_house bottle\n",
      "Scores: 0.84 +- 0.05\n",
      "Chance Scores: 0.78 +- 0.04\n",
      "Processing mask_house chair\n",
      "Scores: 0.87 +- 0.08\n",
      "Chance Scores: 0.78 +- 0.04\n"
     ]
    }
   ],
   "source": [
    "for mask_name in mask_names:\n",
    "    \n",
    "    print(\"Working on mask %s\" % mask_name)\n",
    "    \n",
    "    mask_filename = haxby_dataset[mask_name][0]\n",
    "    # For decoding, standardizing is often very important\n",
    "    masker = NiftiMasker(mask_img=mask_filename, standardize=True) #standard scaling the timeseries at each voxel location to have mean 0 variance 1\n",
    "    masked_timecourses = masker.fit_transform(haxby_dataset.func[0])[task_mask_subj1]\n",
    "\n",
    "    mask_scores[mask_name] = {}\n",
    "    mask_chance_scores[mask_name] = {}\n",
    "\n",
    "    for category in categories:\n",
    "        print(\"Processing %s %s\" % (mask_name, category))\n",
    "        classification_target = (stimuli_subj1[task_mask_subj1] == category)\n",
    "        mask_scores[mask_name][category] = cross_val_score(\n",
    "            classifier,\n",
    "            masked_timecourses,\n",
    "            classification_target,\n",
    "            cv=cv,\n",
    "            groups=session_labels_subj1,\n",
    "            scoring=\"accuracy\",\n",
    "        )\n",
    "\n",
    "        mask_chance_scores[mask_name][category] = cross_val_score(\n",
    "            dummy_classifier,\n",
    "            masked_timecourses,\n",
    "            classification_target,\n",
    "            cv=cv,\n",
    "            groups=session_labels_subj1,\n",
    "            scoring=\"accuracy\",\n",
    "        )\n",
    "\n",
    "        print(\"Scores: %1.2f +- %1.2f\" % (\n",
    "            mask_scores[mask_name][category].mean(),\n",
    "            mask_scores[mask_name][category].std()))\n",
    "        print(\"Chance Scores: %1.2f +- %1.2f\" % (\n",
    "            mask_chance_scores[mask_name][category].mean(),\n",
    "            mask_chance_scores[mask_name][category].std()))"
   ]
  },
  {
   "cell_type": "markdown",
   "metadata": {},
   "source": [
    "Now, let's wrap all of this up in a function, so we can apply all of this logic on a per-subject basis:"
   ]
  },
  {
   "cell_type": "code",
   "execution_count": 52,
   "metadata": {},
   "outputs": [],
   "source": [
    "def compute_accuracy_per_subject(subj_num,masks,clf=SVC(C=1., kernel=\"linear\")):\n",
    "    #get appropriate labels for current subject\n",
    "    stim_cur_subj,task_mask_cur_subj,session_labels_cur_subj = get_subject_task_and_session_data(subj_num)\n",
    "    for mask_name in masks:\n",
    "        mask_filename = haxby_dataset[mask_name][subj_num]\n",
    "        # For decoding, standardizing is often very important\n",
    "        masker = NiftiMasker(mask_img=mask_filename, standardize=True) #standard scaling the timeseries at each voxel location to have mean 0 variance 1\n",
    "        masked_timecourses = masker.fit_transform(haxby_dataset.func[subj_num])[task_mask_cur_subj]\n",
    "\n",
    "        mask_scores[mask_name] = {}\n",
    "        mask_chance_scores[mask_name] = {}\n",
    "        \n",
    "        for category in categories:\n",
    "            print(\"Processing %s %s\" % (mask_name, category))\n",
    "            classification_target = (stim_cur_subj[task_mask_cur_subj] == category)\n",
    "            mask_scores[mask_name][category] = cross_val_score(\n",
    "                clf,\n",
    "                masked_timecourses,\n",
    "                classification_target,\n",
    "                cv=cv,\n",
    "                groups=session_labels_cur_subj,\n",
    "                scoring=\"accuracy\",\n",
    "            )\n",
    "\n",
    "            mask_chance_scores[mask_name][category] = cross_val_score(\n",
    "                dummy_classifier,\n",
    "                masked_timecourses,\n",
    "                classification_target,\n",
    "                cv=cv,\n",
    "                groups=session_labels_cur_subj,\n",
    "                scoring=\"accuracy\",\n",
    "            )\n",
    "\n",
    "#             print(\"Scores: %1.2f +- %1.2f\" % (\n",
    "#                 mask_scores[mask_name][category].mean(),\n",
    "#                 mask_scores[mask_name][category].std()))\n",
    "#             print(\"Chance Scores: %1.2f +- %1.2f\" % (\n",
    "#                 mask_chance_scores[mask_name][category].mean(),\n",
    "#                 mask_chance_scores[mask_name][category].std()))\n",
    "    #return the mask scores to the user\n",
    "    return mask_scores,mask_chance_scores"
   ]
  },
  {
   "cell_type": "markdown",
   "metadata": {},
   "source": [
    "Let's run this across all of the subjects in our set:"
   ]
  },
  {
   "cell_type": "code",
   "execution_count": 53,
   "metadata": {},
   "outputs": [
    {
     "name": "stdout",
     "output_type": "stream",
     "text": [
      "Processing mask_vt scissors\n",
      "Scores: 0.91 +- 0.09\n",
      "Chance Scores: 0.79 +- 0.04\n",
      "Processing mask_vt face\n",
      "Scores: 0.95 +- 0.04\n",
      "Chance Scores: 0.79 +- 0.03\n",
      "Processing mask_vt cat\n",
      "Scores: 0.88 +- 0.06\n",
      "Chance Scores: 0.78 +- 0.03\n",
      "Processing mask_vt shoe\n",
      "Scores: 0.89 +- 0.03\n",
      "Chance Scores: 0.78 +- 0.05\n",
      "Processing mask_vt house\n",
      "Scores: 1.00 +- 0.01\n",
      "Chance Scores: 0.78 +- 0.03\n",
      "Processing mask_vt scrambledpix\n",
      "Scores: 0.97 +- 0.02\n",
      "Chance Scores: 0.78 +- 0.03\n",
      "Processing mask_vt bottle\n",
      "Scores: 0.89 +- 0.04\n",
      "Chance Scores: 0.79 +- 0.03\n",
      "Processing mask_vt chair\n",
      "Scores: 0.93 +- 0.03\n",
      "Chance Scores: 0.78 +- 0.03\n",
      "Processing mask_face scissors\n",
      "Scores: 0.88 +- 0.00\n",
      "Chance Scores: 0.79 +- 0.04\n",
      "Processing mask_face face\n",
      "Scores: 0.87 +- 0.05\n",
      "Chance Scores: 0.77 +- 0.04\n",
      "Processing mask_face cat\n",
      "Scores: 0.88 +- 0.02\n",
      "Chance Scores: 0.79 +- 0.04\n",
      "Processing mask_face shoe\n",
      "Scores: 0.88 +- 0.00\n",
      "Chance Scores: 0.78 +- 0.05\n",
      "Processing mask_face house\n",
      "Scores: 0.88 +- 0.00\n",
      "Chance Scores: 0.78 +- 0.03\n",
      "Processing mask_face scrambledpix\n",
      "Scores: 0.89 +- 0.05\n",
      "Chance Scores: 0.78 +- 0.04\n",
      "Processing mask_face bottle\n",
      "Scores: 0.88 +- 0.00\n",
      "Chance Scores: 0.79 +- 0.03\n",
      "Processing mask_face chair\n",
      "Scores: 0.88 +- 0.00\n",
      "Chance Scores: 0.80 +- 0.03\n",
      "Processing mask_house scissors\n",
      "Scores: 0.86 +- 0.08\n",
      "Chance Scores: 0.78 +- 0.05\n",
      "Processing mask_house face\n",
      "Scores: 0.84 +- 0.13\n",
      "Chance Scores: 0.79 +- 0.04\n",
      "Processing mask_house cat\n",
      "Scores: 0.81 +- 0.13\n",
      "Chance Scores: 0.77 +- 0.04\n",
      "Processing mask_house shoe\n",
      "Scores: 0.80 +- 0.12\n",
      "Chance Scores: 0.78 +- 0.04\n",
      "Processing mask_house house\n",
      "Scores: 0.99 +- 0.02\n",
      "Chance Scores: 0.77 +- 0.04\n",
      "Processing mask_house scrambledpix\n",
      "Scores: 0.88 +- 0.09\n",
      "Chance Scores: 0.80 +- 0.04\n",
      "Processing mask_house bottle\n",
      "Scores: 0.84 +- 0.05\n",
      "Chance Scores: 0.79 +- 0.03\n",
      "Processing mask_house chair\n",
      "Scores: 0.87 +- 0.08\n",
      "Chance Scores: 0.80 +- 0.03\n",
      "Processing mask_vt scissors\n",
      "Scores: 0.85 +- 0.16\n",
      "Chance Scores: 0.77 +- 0.03\n",
      "Processing mask_vt face\n",
      "Scores: 0.90 +- 0.04\n",
      "Chance Scores: 0.79 +- 0.05\n",
      "Processing mask_vt cat\n",
      "Scores: 0.92 +- 0.04\n",
      "Chance Scores: 0.81 +- 0.04\n",
      "Processing mask_vt shoe\n",
      "Scores: 0.86 +- 0.16\n",
      "Chance Scores: 0.76 +- 0.04\n",
      "Processing mask_vt house\n",
      "Scores: 0.97 +- 0.04\n",
      "Chance Scores: 0.80 +- 0.04\n",
      "Processing mask_vt scrambledpix\n",
      "Scores: 0.95 +- 0.04\n",
      "Chance Scores: 0.78 +- 0.03\n",
      "Processing mask_vt bottle\n",
      "Scores: 0.86 +- 0.09\n",
      "Chance Scores: 0.79 +- 0.02\n",
      "Processing mask_vt chair\n",
      "Scores: 0.87 +- 0.07\n",
      "Chance Scores: 0.80 +- 0.03\n",
      "Processing mask_face scissors\n",
      "Scores: 0.88 +- 0.00\n",
      "Chance Scores: 0.79 +- 0.04\n",
      "Processing mask_face face\n",
      "Scores: 0.87 +- 0.07\n",
      "Chance Scores: 0.78 +- 0.03\n",
      "Processing mask_face cat\n",
      "Scores: 0.88 +- 0.00\n",
      "Chance Scores: 0.80 +- 0.03\n",
      "Processing mask_face shoe\n",
      "Scores: 0.88 +- 0.00\n",
      "Chance Scores: 0.78 +- 0.03\n",
      "Processing mask_face house\n",
      "Scores: 0.88 +- 0.00\n",
      "Chance Scores: 0.78 +- 0.04\n",
      "Processing mask_face scrambledpix\n",
      "Scores: 0.87 +- 0.09\n",
      "Chance Scores: 0.78 +- 0.03\n",
      "Processing mask_face bottle\n",
      "Scores: 0.88 +- 0.00\n",
      "Chance Scores: 0.77 +- 0.04\n",
      "Processing mask_face chair\n",
      "Scores: 0.88 +- 0.00\n",
      "Chance Scores: 0.78 +- 0.05\n",
      "Processing mask_house scissors\n",
      "Scores: 0.85 +- 0.05\n",
      "Chance Scores: 0.79 +- 0.05\n",
      "Processing mask_house face\n",
      "Scores: 0.82 +- 0.13\n",
      "Chance Scores: 0.77 +- 0.03\n",
      "Processing mask_house cat\n",
      "Scores: 0.86 +- 0.04\n",
      "Chance Scores: 0.78 +- 0.04\n",
      "Processing mask_house shoe\n",
      "Scores: 0.79 +- 0.17\n",
      "Chance Scores: 0.79 +- 0.04\n",
      "Processing mask_house house\n",
      "Scores: 0.95 +- 0.04\n",
      "Chance Scores: 0.80 +- 0.03\n",
      "Processing mask_house scrambledpix\n",
      "Scores: 0.85 +- 0.14\n",
      "Chance Scores: 0.79 +- 0.05\n",
      "Processing mask_house bottle\n",
      "Scores: 0.81 +- 0.13\n",
      "Chance Scores: 0.78 +- 0.04\n",
      "Processing mask_house chair\n",
      "Scores: 0.82 +- 0.15\n",
      "Chance Scores: 0.78 +- 0.03\n",
      "Processing mask_vt scissors\n",
      "Scores: 0.83 +- 0.14\n",
      "Chance Scores: 0.80 +- 0.04\n",
      "Processing mask_vt face\n",
      "Scores: 0.91 +- 0.04\n",
      "Chance Scores: 0.78 +- 0.04\n",
      "Processing mask_vt cat\n",
      "Scores: 0.90 +- 0.05\n",
      "Chance Scores: 0.77 +- 0.05\n",
      "Processing mask_vt shoe\n",
      "Scores: 0.90 +- 0.04\n",
      "Chance Scores: 0.77 +- 0.04\n",
      "Processing mask_vt house\n",
      "Scores: 0.98 +- 0.01\n",
      "Chance Scores: 0.77 +- 0.05\n",
      "Processing mask_vt scrambledpix\n",
      "Scores: 0.95 +- 0.03\n",
      "Chance Scores: 0.78 +- 0.03\n",
      "Processing mask_vt bottle\n",
      "Scores: 0.85 +- 0.04\n",
      "Chance Scores: 0.78 +- 0.04\n",
      "Processing mask_vt chair\n",
      "Scores: 0.87 +- 0.05\n",
      "Chance Scores: 0.78 +- 0.04\n",
      "Processing mask_face scissors\n",
      "Scores: 0.88 +- 0.00\n",
      "Chance Scores: 0.77 +- 0.04\n",
      "Processing mask_face face\n",
      "Scores: 0.88 +- 0.00\n",
      "Chance Scores: 0.77 +- 0.03\n",
      "Processing mask_face cat\n",
      "Scores: 0.88 +- 0.00\n",
      "Chance Scores: 0.75 +- 0.04\n",
      "Processing mask_face shoe\n",
      "Scores: 0.88 +- 0.00\n",
      "Chance Scores: 0.76 +- 0.04\n",
      "Processing mask_face house\n",
      "Scores: 0.88 +- 0.00\n",
      "Chance Scores: 0.77 +- 0.04\n",
      "Processing mask_face scrambledpix\n",
      "Scores: 0.88 +- 0.00\n",
      "Chance Scores: 0.77 +- 0.04\n",
      "Processing mask_face bottle\n",
      "Scores: 0.88 +- 0.00\n",
      "Chance Scores: 0.78 +- 0.05\n",
      "Processing mask_face chair\n",
      "Scores: 0.88 +- 0.00\n",
      "Chance Scores: 0.80 +- 0.03\n",
      "Processing mask_house scissors\n",
      "Scores: 0.80 +- 0.15\n",
      "Chance Scores: 0.77 +- 0.04\n",
      "Processing mask_house face\n",
      "Scores: 0.87 +- 0.06\n",
      "Chance Scores: 0.77 +- 0.04\n",
      "Processing mask_house cat\n",
      "Scores: 0.83 +- 0.09\n",
      "Chance Scores: 0.77 +- 0.02\n",
      "Processing mask_house shoe\n",
      "Scores: 0.88 +- 0.05\n",
      "Chance Scores: 0.77 +- 0.04\n",
      "Processing mask_house house\n",
      "Scores: 0.96 +- 0.02\n",
      "Chance Scores: 0.78 +- 0.03\n",
      "Processing mask_house scrambledpix\n",
      "Scores: 0.91 +- 0.03\n",
      "Chance Scores: 0.77 +- 0.03\n",
      "Processing mask_house bottle\n",
      "Scores: 0.84 +- 0.03\n",
      "Chance Scores: 0.79 +- 0.03\n",
      "Processing mask_house chair\n",
      "Scores: 0.86 +- 0.04\n",
      "Chance Scores: 0.78 +- 0.04\n",
      "Processing mask_vt scissors\n",
      "Scores: 0.87 +- 0.04\n",
      "Chance Scores: 0.78 +- 0.03\n",
      "Processing mask_vt face\n",
      "Scores: 0.96 +- 0.03\n",
      "Chance Scores: 0.78 +- 0.04\n",
      "Processing mask_vt cat\n",
      "Scores: 0.83 +- 0.10\n",
      "Chance Scores: 0.78 +- 0.04\n",
      "Processing mask_vt shoe\n",
      "Scores: 0.88 +- 0.03\n",
      "Chance Scores: 0.79 +- 0.04\n",
      "Processing mask_vt house\n",
      "Scores: 0.93 +- 0.13\n",
      "Chance Scores: 0.76 +- 0.04\n",
      "Processing mask_vt scrambledpix\n",
      "Scores: 0.94 +- 0.04\n",
      "Chance Scores: 0.77 +- 0.02\n",
      "Processing mask_vt bottle\n",
      "Scores: 0.80 +- 0.08\n",
      "Chance Scores: 0.78 +- 0.03\n",
      "Processing mask_vt chair\n",
      "Scores: 0.81 +- 0.17\n",
      "Chance Scores: 0.78 +- 0.03\n",
      "Processing mask_face scissors\n",
      "Scores: 0.83 +- 0.07\n",
      "Chance Scores: 0.79 +- 0.03\n",
      "Processing mask_face face\n",
      "Scores: 0.92 +- 0.05\n",
      "Chance Scores: 0.77 +- 0.02\n",
      "Processing mask_face cat\n",
      "Scores: 0.81 +- 0.09\n",
      "Chance Scores: 0.76 +- 0.03\n",
      "Processing mask_face shoe\n",
      "Scores: 0.82 +- 0.09\n",
      "Chance Scores: 0.77 +- 0.03\n",
      "Processing mask_face house\n",
      "Scores: 0.84 +- 0.13\n",
      "Chance Scores: 0.80 +- 0.04\n",
      "Processing mask_face scrambledpix\n",
      "Scores: 0.84 +- 0.09\n",
      "Chance Scores: 0.78 +- 0.04\n",
      "Processing mask_face bottle\n",
      "Scores: 0.80 +- 0.07\n",
      "Chance Scores: 0.77 +- 0.03\n",
      "Processing mask_face chair\n",
      "Scores: 0.79 +- 0.09\n",
      "Chance Scores: 0.79 +- 0.03\n",
      "Processing mask_house scissors\n",
      "Scores: 0.77 +- 0.14\n",
      "Chance Scores: 0.78 +- 0.04\n",
      "Processing mask_house face\n",
      "Scores: 0.89 +- 0.05\n",
      "Chance Scores: 0.79 +- 0.03\n",
      "Processing mask_house cat\n",
      "Scores: 0.79 +- 0.09\n",
      "Chance Scores: 0.77 +- 0.03\n",
      "Processing mask_house shoe\n",
      "Scores: 0.85 +- 0.03\n",
      "Chance Scores: 0.78 +- 0.05\n",
      "Processing mask_house house\n",
      "Scores: 0.90 +- 0.14\n",
      "Chance Scores: 0.78 +- 0.03\n",
      "Processing mask_house scrambledpix\n",
      "Scores: 0.89 +- 0.08\n",
      "Chance Scores: 0.79 +- 0.03\n",
      "Processing mask_house bottle\n",
      "Scores: 0.74 +- 0.17\n",
      "Chance Scores: 0.79 +- 0.04\n",
      "Processing mask_house chair\n",
      "Scores: 0.82 +- 0.12\n",
      "Chance Scores: 0.77 +- 0.05\n",
      "Processing mask_vt scissors\n",
      "Scores: 0.86 +- 0.08\n",
      "Chance Scores: 0.78 +- 0.04\n",
      "Processing mask_vt face\n",
      "Scores: 0.96 +- 0.03\n",
      "Chance Scores: 0.76 +- 0.04\n",
      "Processing mask_vt cat\n",
      "Scores: 0.95 +- 0.04\n",
      "Chance Scores: 0.79 +- 0.05\n",
      "Processing mask_vt shoe\n",
      "Scores: 0.87 +- 0.06\n",
      "Chance Scores: 0.79 +- 0.04\n",
      "Processing mask_vt house\n",
      "Scores: 0.97 +- 0.02\n",
      "Chance Scores: 0.79 +- 0.02\n",
      "Processing mask_vt scrambledpix\n",
      "Scores: 0.97 +- 0.02\n",
      "Chance Scores: 0.78 +- 0.04\n",
      "Processing mask_vt bottle\n",
      "Scores: 0.89 +- 0.05\n",
      "Chance Scores: 0.77 +- 0.04\n",
      "Processing mask_vt chair\n",
      "Scores: 0.92 +- 0.04\n",
      "Chance Scores: 0.77 +- 0.04\n",
      "Processing mask_face scissors\n",
      "Scores: 0.87 +- 0.02\n",
      "Chance Scores: 0.80 +- 0.04\n",
      "Processing mask_face face\n",
      "Scores: 0.94 +- 0.02\n",
      "Chance Scores: 0.79 +- 0.03\n",
      "Processing mask_face cat\n",
      "Scores: 0.87 +- 0.06\n",
      "Chance Scores: 0.77 +- 0.04\n",
      "Processing mask_face shoe\n"
     ]
    },
    {
     "name": "stdout",
     "output_type": "stream",
     "text": [
      "Scores: 0.85 +- 0.07\n",
      "Chance Scores: 0.80 +- 0.03\n",
      "Processing mask_face house\n",
      "Scores: 0.82 +- 0.12\n",
      "Chance Scores: 0.78 +- 0.04\n",
      "Processing mask_face scrambledpix\n",
      "Scores: 0.83 +- 0.08\n",
      "Chance Scores: 0.79 +- 0.02\n",
      "Processing mask_face bottle\n",
      "Scores: 0.86 +- 0.03\n",
      "Chance Scores: 0.77 +- 0.04\n",
      "Processing mask_face chair\n",
      "Scores: 0.86 +- 0.05\n",
      "Chance Scores: 0.80 +- 0.03\n",
      "Processing mask_house scissors\n",
      "Scores: 0.82 +- 0.08\n",
      "Chance Scores: 0.79 +- 0.03\n",
      "Processing mask_house face\n",
      "Scores: 0.87 +- 0.04\n",
      "Chance Scores: 0.79 +- 0.03\n",
      "Processing mask_house cat\n",
      "Scores: 0.85 +- 0.04\n",
      "Chance Scores: 0.78 +- 0.03\n",
      "Processing mask_house shoe\n",
      "Scores: 0.84 +- 0.07\n",
      "Chance Scores: 0.78 +- 0.03\n",
      "Processing mask_house house\n",
      "Scores: 0.94 +- 0.04\n",
      "Chance Scores: 0.77 +- 0.04\n",
      "Processing mask_house scrambledpix\n",
      "Scores: 0.90 +- 0.05\n",
      "Chance Scores: 0.78 +- 0.03\n",
      "Processing mask_house bottle\n",
      "Scores: 0.85 +- 0.04\n",
      "Chance Scores: 0.78 +- 0.03\n",
      "Processing mask_house chair\n",
      "Scores: 0.80 +- 0.06\n",
      "Chance Scores: 0.77 +- 0.05\n",
      "Processing mask_vt scissors\n",
      "Scores: 0.92 +- 0.04\n",
      "Chance Scores: 0.77 +- 0.03\n",
      "Processing mask_vt face\n",
      "Scores: 0.97 +- 0.04\n",
      "Chance Scores: 0.80 +- 0.02\n",
      "Processing mask_vt cat\n",
      "Scores: 0.97 +- 0.03\n",
      "Chance Scores: 0.78 +- 0.02\n",
      "Processing mask_vt shoe\n",
      "Scores: 0.88 +- 0.04\n",
      "Chance Scores: 0.77 +- 0.04\n",
      "Processing mask_vt house\n",
      "Scores: 0.99 +- 0.01\n",
      "Chance Scores: 0.77 +- 0.03\n",
      "Processing mask_vt scrambledpix\n",
      "Scores: 0.95 +- 0.03\n",
      "Chance Scores: 0.79 +- 0.03\n",
      "Processing mask_vt bottle\n",
      "Scores: 0.81 +- 0.10\n",
      "Chance Scores: 0.80 +- 0.04\n",
      "Processing mask_vt chair\n",
      "Scores: 0.90 +- 0.03\n",
      "Chance Scores: 0.79 +- 0.04\n",
      "Processing mask_face scissors\n",
      "Scores: 0.88 +- 0.00\n",
      "Chance Scores: 0.78 +- 0.03\n",
      "Processing mask_face face\n",
      "Scores: 0.89 +- 0.12\n",
      "Chance Scores: 0.80 +- 0.03\n",
      "Processing mask_face cat\n",
      "Scores: 0.87 +- 0.02\n",
      "Chance Scores: 0.77 +- 0.04\n",
      "Processing mask_face shoe\n",
      "Scores: 0.88 +- 0.00\n",
      "Chance Scores: 0.77 +- 0.02\n",
      "Processing mask_face house\n",
      "Scores: 0.88 +- 0.01\n",
      "Chance Scores: 0.77 +- 0.03\n",
      "Processing mask_face scrambledpix\n",
      "Scores: 0.86 +- 0.06\n",
      "Chance Scores: 0.78 +- 0.03\n",
      "Processing mask_face bottle\n",
      "Scores: 0.88 +- 0.00\n",
      "Chance Scores: 0.80 +- 0.03\n",
      "Processing mask_face chair\n",
      "Scores: 0.88 +- 0.00\n",
      "Chance Scores: 0.80 +- 0.04\n",
      "Processing mask_house scissors\n",
      "Scores: 0.86 +- 0.03\n",
      "Chance Scores: 0.78 +- 0.03\n",
      "Processing mask_house face\n",
      "Scores: 0.87 +- 0.05\n",
      "Chance Scores: 0.79 +- 0.05\n",
      "Processing mask_house cat\n",
      "Scores: 0.85 +- 0.04\n",
      "Chance Scores: 0.79 +- 0.04\n",
      "Processing mask_house shoe\n",
      "Scores: 0.83 +- 0.06\n",
      "Chance Scores: 0.78 +- 0.03\n",
      "Processing mask_house house\n",
      "Scores: 0.99 +- 0.01\n",
      "Chance Scores: 0.79 +- 0.04\n",
      "Processing mask_house scrambledpix\n",
      "Scores: 0.90 +- 0.04\n",
      "Chance Scores: 0.79 +- 0.03\n",
      "Processing mask_house bottle\n",
      "Scores: 0.79 +- 0.20\n",
      "Chance Scores: 0.78 +- 0.04\n",
      "Processing mask_house chair\n",
      "Scores: 0.87 +- 0.05\n",
      "Chance Scores: 0.79 +- 0.04\n"
     ]
    }
   ],
   "source": [
    "all_subj_data = {}\n",
    "for sub in range(subs):\n",
    "    print(\"Processing subject %s\" % (str(sub+1))\n",
    "    mask_scores,mask_chance_scores = compute_accuracy_per_subject(sub,mask_names)\n",
    "    all_subj_data[\"sub_\"+str(sub+1)] = {}\n",
    "    all_subj_data[\"sub_\"+str(sub+1)][\"clf_accuracies\"] = mask_scores\n",
    "    all_subj_data[\"sub_\"+str(sub+1)][\"chance_accuracies\"] = mask_chance_scores\n",
    "    print(\"Done processing subject %s\" % (str(sub+1)))\n",
    "print(\"Done processing all subjects\")"
   ]
  },
  {
   "cell_type": "markdown",
   "metadata": {},
   "source": [
    "Let's take a look at the resulting dictionary:"
   ]
  },
  {
   "cell_type": "code",
   "execution_count": 57,
   "metadata": {},
   "outputs": [
    {
     "data": {
      "text/plain": [
       "dict_keys(['sub_1', 'sub_2', 'sub_3', 'sub_4', 'sub_5', 'sub_6'])"
      ]
     },
     "execution_count": 57,
     "metadata": {},
     "output_type": "execute_result"
    }
   ],
   "source": [
    "all_subj_data.keys()"
   ]
  },
  {
   "cell_type": "code",
   "execution_count": 58,
   "metadata": {},
   "outputs": [
    {
     "data": {
      "text/plain": [
       "dict_keys(['clf_accuracies', 'chance_accuracies'])"
      ]
     },
     "execution_count": 58,
     "metadata": {},
     "output_type": "execute_result"
    }
   ],
   "source": [
    "all_subj_data[\"sub_1\"].keys()"
   ]
  },
  {
   "cell_type": "code",
   "execution_count": 60,
   "metadata": {},
   "outputs": [
    {
     "data": {
      "text/plain": [
       "dict_keys(['mask_vt', 'mask_face', 'mask_house'])"
      ]
     },
     "execution_count": 60,
     "metadata": {},
     "output_type": "execute_result"
    }
   ],
   "source": [
    "all_subj_data[\"sub_1\"][\"clf_accuracies\"].keys()"
   ]
  },
  {
   "cell_type": "code",
   "execution_count": 61,
   "metadata": {},
   "outputs": [
    {
     "data": {
      "text/plain": [
       "dict_keys(['scissors', 'face', 'cat', 'shoe', 'house', 'scrambledpix', 'bottle', 'chair'])"
      ]
     },
     "execution_count": 61,
     "metadata": {},
     "output_type": "execute_result"
    }
   ],
   "source": [
    "all_subj_data[\"sub_1\"][\"clf_accuracies\"][\"mask_vt\"].keys()"
   ]
  },
  {
   "cell_type": "code",
   "execution_count": 62,
   "metadata": {},
   "outputs": [
    {
     "data": {
      "text/plain": [
       "array([0.86111111, 0.97222222, 0.95833333, 0.98611111, 0.95833333,\n",
       "       0.93055556, 0.98611111, 0.98611111, 0.98611111, 0.98611111,\n",
       "       0.98611111, 1.        ])"
      ]
     },
     "execution_count": 62,
     "metadata": {},
     "output_type": "execute_result"
    }
   ],
   "source": [
    "all_subj_data[\"sub_1\"][\"clf_accuracies\"][\"mask_vt\"][\"face\"]"
   ]
  },
  {
   "cell_type": "markdown",
   "metadata": {},
   "source": [
    "Let's convert these deeply nested dictionaries into pandas `DataFrames` for easier analysis:"
   ]
  },
  {
   "cell_type": "code",
   "execution_count": 243,
   "metadata": {},
   "outputs": [],
   "source": [
    "results_df = pd.DataFrame.from_dict({(i,j,k,l): all_subj_data[i][j][k][l]\n",
    "                                        for i in all_subj_data.keys()\n",
    "                                        for j in all_subj_data[i].keys()\n",
    "                                        for k in all_subj_data[i][j].keys()\n",
    "                                        for l in all_subj_data[i][j][k].keys()},\n",
    "                                    orient=\"columns\")"
   ]
  },
  {
   "cell_type": "code",
   "execution_count": 244,
   "metadata": {},
   "outputs": [
    {
     "data": {
      "text/html": [
       "<div>\n",
       "<style scoped>\n",
       "    .dataframe tbody tr th:only-of-type {\n",
       "        vertical-align: middle;\n",
       "    }\n",
       "\n",
       "    .dataframe tbody tr th {\n",
       "        vertical-align: top;\n",
       "    }\n",
       "\n",
       "    .dataframe thead tr th {\n",
       "        text-align: left;\n",
       "    }\n",
       "</style>\n",
       "<table border=\"1\" class=\"dataframe\">\n",
       "  <thead>\n",
       "    <tr>\n",
       "      <th></th>\n",
       "      <th colspan=\"10\" halign=\"left\">sub_1</th>\n",
       "      <th>...</th>\n",
       "      <th colspan=\"10\" halign=\"left\">sub_6</th>\n",
       "    </tr>\n",
       "    <tr>\n",
       "      <th></th>\n",
       "      <th colspan=\"10\" halign=\"left\">clf_accuracies</th>\n",
       "      <th>...</th>\n",
       "      <th colspan=\"10\" halign=\"left\">chance_accuracies</th>\n",
       "    </tr>\n",
       "    <tr>\n",
       "      <th></th>\n",
       "      <th colspan=\"8\" halign=\"left\">mask_vt</th>\n",
       "      <th colspan=\"2\" halign=\"left\">mask_face</th>\n",
       "      <th>...</th>\n",
       "      <th colspan=\"2\" halign=\"left\">mask_face</th>\n",
       "      <th colspan=\"8\" halign=\"left\">mask_house</th>\n",
       "    </tr>\n",
       "    <tr>\n",
       "      <th></th>\n",
       "      <th>scissors</th>\n",
       "      <th>face</th>\n",
       "      <th>cat</th>\n",
       "      <th>shoe</th>\n",
       "      <th>house</th>\n",
       "      <th>scrambledpix</th>\n",
       "      <th>bottle</th>\n",
       "      <th>chair</th>\n",
       "      <th>scissors</th>\n",
       "      <th>face</th>\n",
       "      <th>...</th>\n",
       "      <th>bottle</th>\n",
       "      <th>chair</th>\n",
       "      <th>scissors</th>\n",
       "      <th>face</th>\n",
       "      <th>cat</th>\n",
       "      <th>shoe</th>\n",
       "      <th>house</th>\n",
       "      <th>scrambledpix</th>\n",
       "      <th>bottle</th>\n",
       "      <th>chair</th>\n",
       "    </tr>\n",
       "  </thead>\n",
       "  <tbody>\n",
       "    <tr>\n",
       "      <th>0</th>\n",
       "      <td>0.902778</td>\n",
       "      <td>0.861111</td>\n",
       "      <td>0.986111</td>\n",
       "      <td>0.875000</td>\n",
       "      <td>0.986111</td>\n",
       "      <td>0.972222</td>\n",
       "      <td>0.541667</td>\n",
       "      <td>0.930556</td>\n",
       "      <td>0.875</td>\n",
       "      <td>0.513889</td>\n",
       "      <td>...</td>\n",
       "      <td>0.777778</td>\n",
       "      <td>0.791667</td>\n",
       "      <td>0.750000</td>\n",
       "      <td>0.833333</td>\n",
       "      <td>0.791667</td>\n",
       "      <td>0.736111</td>\n",
       "      <td>0.819444</td>\n",
       "      <td>0.791667</td>\n",
       "      <td>0.763889</td>\n",
       "      <td>0.694444</td>\n",
       "    </tr>\n",
       "    <tr>\n",
       "      <th>1</th>\n",
       "      <td>0.972222</td>\n",
       "      <td>0.972222</td>\n",
       "      <td>1.000000</td>\n",
       "      <td>0.875000</td>\n",
       "      <td>1.000000</td>\n",
       "      <td>0.847222</td>\n",
       "      <td>0.888889</td>\n",
       "      <td>0.916667</td>\n",
       "      <td>0.875</td>\n",
       "      <td>0.916667</td>\n",
       "      <td>...</td>\n",
       "      <td>0.791667</td>\n",
       "      <td>0.833333</td>\n",
       "      <td>0.708333</td>\n",
       "      <td>0.861111</td>\n",
       "      <td>0.777778</td>\n",
       "      <td>0.791667</td>\n",
       "      <td>0.777778</td>\n",
       "      <td>0.722222</td>\n",
       "      <td>0.750000</td>\n",
       "      <td>0.819444</td>\n",
       "    </tr>\n",
       "    <tr>\n",
       "      <th>2</th>\n",
       "      <td>0.972222</td>\n",
       "      <td>0.958333</td>\n",
       "      <td>1.000000</td>\n",
       "      <td>0.847222</td>\n",
       "      <td>0.986111</td>\n",
       "      <td>0.958333</td>\n",
       "      <td>0.708333</td>\n",
       "      <td>0.888889</td>\n",
       "      <td>0.875</td>\n",
       "      <td>0.930556</td>\n",
       "      <td>...</td>\n",
       "      <td>0.819444</td>\n",
       "      <td>0.819444</td>\n",
       "      <td>0.791667</td>\n",
       "      <td>0.722222</td>\n",
       "      <td>0.763889</td>\n",
       "      <td>0.777778</td>\n",
       "      <td>0.833333</td>\n",
       "      <td>0.847222</td>\n",
       "      <td>0.736111</td>\n",
       "      <td>0.791667</td>\n",
       "    </tr>\n",
       "    <tr>\n",
       "      <th>3</th>\n",
       "      <td>0.986111</td>\n",
       "      <td>0.986111</td>\n",
       "      <td>0.986111</td>\n",
       "      <td>0.916667</td>\n",
       "      <td>1.000000</td>\n",
       "      <td>0.944444</td>\n",
       "      <td>0.875000</td>\n",
       "      <td>0.930556</td>\n",
       "      <td>0.875</td>\n",
       "      <td>0.944444</td>\n",
       "      <td>...</td>\n",
       "      <td>0.791667</td>\n",
       "      <td>0.736111</td>\n",
       "      <td>0.777778</td>\n",
       "      <td>0.791667</td>\n",
       "      <td>0.763889</td>\n",
       "      <td>0.763889</td>\n",
       "      <td>0.763889</td>\n",
       "      <td>0.763889</td>\n",
       "      <td>0.750000</td>\n",
       "      <td>0.861111</td>\n",
       "    </tr>\n",
       "    <tr>\n",
       "      <th>4</th>\n",
       "      <td>0.916667</td>\n",
       "      <td>0.958333</td>\n",
       "      <td>0.972222</td>\n",
       "      <td>0.833333</td>\n",
       "      <td>1.000000</td>\n",
       "      <td>0.986111</td>\n",
       "      <td>0.875000</td>\n",
       "      <td>0.930556</td>\n",
       "      <td>0.875</td>\n",
       "      <td>0.861111</td>\n",
       "      <td>...</td>\n",
       "      <td>0.750000</td>\n",
       "      <td>0.847222</td>\n",
       "      <td>0.805556</td>\n",
       "      <td>0.805556</td>\n",
       "      <td>0.888889</td>\n",
       "      <td>0.750000</td>\n",
       "      <td>0.805556</td>\n",
       "      <td>0.777778</td>\n",
       "      <td>0.777778</td>\n",
       "      <td>0.819444</td>\n",
       "    </tr>\n",
       "  </tbody>\n",
       "</table>\n",
       "<p>5 rows × 288 columns</p>\n",
       "</div>"
      ],
      "text/plain": [
       "           sub_1                                                       \\\n",
       "  clf_accuracies                                                        \n",
       "         mask_vt                                                        \n",
       "        scissors      face       cat      shoe     house scrambledpix   \n",
       "0       0.902778  0.861111  0.986111  0.875000  0.986111     0.972222   \n",
       "1       0.972222  0.972222  1.000000  0.875000  1.000000     0.847222   \n",
       "2       0.972222  0.958333  1.000000  0.847222  0.986111     0.958333   \n",
       "3       0.986111  0.986111  0.986111  0.916667  1.000000     0.944444   \n",
       "4       0.916667  0.958333  0.972222  0.833333  1.000000     0.986111   \n",
       "\n",
       "                                             ...                sub_6  \\\n",
       "                                             ...    chance_accuracies   \n",
       "                      mask_face              ...            mask_face   \n",
       "     bottle     chair  scissors      face    ...               bottle   \n",
       "0  0.541667  0.930556     0.875  0.513889    ...             0.777778   \n",
       "1  0.888889  0.916667     0.875  0.916667    ...             0.791667   \n",
       "2  0.708333  0.888889     0.875  0.930556    ...             0.819444   \n",
       "3  0.875000  0.930556     0.875  0.944444    ...             0.791667   \n",
       "4  0.875000  0.930556     0.875  0.861111    ...             0.750000   \n",
       "\n",
       "                                                                             \\\n",
       "                                                                              \n",
       "            mask_house                                                        \n",
       "      chair   scissors      face       cat      shoe     house scrambledpix   \n",
       "0  0.791667   0.750000  0.833333  0.791667  0.736111  0.819444     0.791667   \n",
       "1  0.833333   0.708333  0.861111  0.777778  0.791667  0.777778     0.722222   \n",
       "2  0.819444   0.791667  0.722222  0.763889  0.777778  0.833333     0.847222   \n",
       "3  0.736111   0.777778  0.791667  0.763889  0.763889  0.763889     0.763889   \n",
       "4  0.847222   0.805556  0.805556  0.888889  0.750000  0.805556     0.777778   \n",
       "\n",
       "                       \n",
       "                       \n",
       "                       \n",
       "     bottle     chair  \n",
       "0  0.763889  0.694444  \n",
       "1  0.750000  0.819444  \n",
       "2  0.736111  0.791667  \n",
       "3  0.750000  0.861111  \n",
       "4  0.777778  0.819444  \n",
       "\n",
       "[5 rows x 288 columns]"
      ]
     },
     "execution_count": 244,
     "metadata": {},
     "output_type": "execute_result"
    }
   ],
   "source": [
    "results_df.head()"
   ]
  },
  {
   "cell_type": "markdown",
   "metadata": {},
   "source": [
    "We can \"pivot\" on the column names and force the dataframe indices to behave like column cells using a combination of `unstack` and `reset_index` from pandas:"
   ]
  },
  {
   "cell_type": "code",
   "execution_count": 245,
   "metadata": {},
   "outputs": [],
   "source": [
    "results_df = results_df.unstack()"
   ]
  },
  {
   "cell_type": "code",
   "execution_count": 246,
   "metadata": {},
   "outputs": [
    {
     "data": {
      "text/plain": [
       "sub_1  clf_accuracies  mask_vt  scissors  0    0.902778\n",
       "                                          1    0.972222\n",
       "                                          2    0.972222\n",
       "                                          3    0.986111\n",
       "                                          4    0.916667\n",
       "dtype: float64"
      ]
     },
     "execution_count": 246,
     "metadata": {},
     "output_type": "execute_result"
    }
   ],
   "source": [
    "results_df.head()"
   ]
  },
  {
   "cell_type": "code",
   "execution_count": 247,
   "metadata": {},
   "outputs": [],
   "source": [
    "results_df = results_df.reset_index()"
   ]
  },
  {
   "cell_type": "code",
   "execution_count": 248,
   "metadata": {},
   "outputs": [
    {
     "data": {
      "text/html": [
       "<div>\n",
       "<style scoped>\n",
       "    .dataframe tbody tr th:only-of-type {\n",
       "        vertical-align: middle;\n",
       "    }\n",
       "\n",
       "    .dataframe tbody tr th {\n",
       "        vertical-align: top;\n",
       "    }\n",
       "\n",
       "    .dataframe thead th {\n",
       "        text-align: right;\n",
       "    }\n",
       "</style>\n",
       "<table border=\"1\" class=\"dataframe\">\n",
       "  <thead>\n",
       "    <tr style=\"text-align: right;\">\n",
       "      <th></th>\n",
       "      <th>level_0</th>\n",
       "      <th>level_1</th>\n",
       "      <th>level_2</th>\n",
       "      <th>level_3</th>\n",
       "      <th>level_4</th>\n",
       "      <th>0</th>\n",
       "    </tr>\n",
       "  </thead>\n",
       "  <tbody>\n",
       "    <tr>\n",
       "      <th>0</th>\n",
       "      <td>sub_1</td>\n",
       "      <td>clf_accuracies</td>\n",
       "      <td>mask_vt</td>\n",
       "      <td>scissors</td>\n",
       "      <td>0</td>\n",
       "      <td>0.902778</td>\n",
       "    </tr>\n",
       "    <tr>\n",
       "      <th>1</th>\n",
       "      <td>sub_1</td>\n",
       "      <td>clf_accuracies</td>\n",
       "      <td>mask_vt</td>\n",
       "      <td>scissors</td>\n",
       "      <td>1</td>\n",
       "      <td>0.972222</td>\n",
       "    </tr>\n",
       "    <tr>\n",
       "      <th>2</th>\n",
       "      <td>sub_1</td>\n",
       "      <td>clf_accuracies</td>\n",
       "      <td>mask_vt</td>\n",
       "      <td>scissors</td>\n",
       "      <td>2</td>\n",
       "      <td>0.972222</td>\n",
       "    </tr>\n",
       "    <tr>\n",
       "      <th>3</th>\n",
       "      <td>sub_1</td>\n",
       "      <td>clf_accuracies</td>\n",
       "      <td>mask_vt</td>\n",
       "      <td>scissors</td>\n",
       "      <td>3</td>\n",
       "      <td>0.986111</td>\n",
       "    </tr>\n",
       "    <tr>\n",
       "      <th>4</th>\n",
       "      <td>sub_1</td>\n",
       "      <td>clf_accuracies</td>\n",
       "      <td>mask_vt</td>\n",
       "      <td>scissors</td>\n",
       "      <td>4</td>\n",
       "      <td>0.916667</td>\n",
       "    </tr>\n",
       "  </tbody>\n",
       "</table>\n",
       "</div>"
      ],
      "text/plain": [
       "  level_0         level_1  level_2   level_3  level_4         0\n",
       "0   sub_1  clf_accuracies  mask_vt  scissors        0  0.902778\n",
       "1   sub_1  clf_accuracies  mask_vt  scissors        1  0.972222\n",
       "2   sub_1  clf_accuracies  mask_vt  scissors        2  0.972222\n",
       "3   sub_1  clf_accuracies  mask_vt  scissors        3  0.986111\n",
       "4   sub_1  clf_accuracies  mask_vt  scissors        4  0.916667"
      ]
     },
     "execution_count": 248,
     "metadata": {},
     "output_type": "execute_result"
    }
   ],
   "source": [
    "results_df.head()"
   ]
  },
  {
   "cell_type": "code",
   "execution_count": 250,
   "metadata": {},
   "outputs": [],
   "source": [
    "results_df.columns = [\"subject\",\"analysis\",\"mask\",\"category\",\"crossval_fold\",\"accuracy\"]"
   ]
  },
  {
   "cell_type": "code",
   "execution_count": 251,
   "metadata": {},
   "outputs": [
    {
     "data": {
      "text/html": [
       "<div>\n",
       "<style scoped>\n",
       "    .dataframe tbody tr th:only-of-type {\n",
       "        vertical-align: middle;\n",
       "    }\n",
       "\n",
       "    .dataframe tbody tr th {\n",
       "        vertical-align: top;\n",
       "    }\n",
       "\n",
       "    .dataframe thead th {\n",
       "        text-align: right;\n",
       "    }\n",
       "</style>\n",
       "<table border=\"1\" class=\"dataframe\">\n",
       "  <thead>\n",
       "    <tr style=\"text-align: right;\">\n",
       "      <th></th>\n",
       "      <th>subject</th>\n",
       "      <th>analysis</th>\n",
       "      <th>mask</th>\n",
       "      <th>category</th>\n",
       "      <th>crossval_fold</th>\n",
       "      <th>accuracy</th>\n",
       "    </tr>\n",
       "  </thead>\n",
       "  <tbody>\n",
       "    <tr>\n",
       "      <th>0</th>\n",
       "      <td>sub_1</td>\n",
       "      <td>clf_accuracies</td>\n",
       "      <td>mask_vt</td>\n",
       "      <td>scissors</td>\n",
       "      <td>0</td>\n",
       "      <td>0.902778</td>\n",
       "    </tr>\n",
       "    <tr>\n",
       "      <th>1</th>\n",
       "      <td>sub_1</td>\n",
       "      <td>clf_accuracies</td>\n",
       "      <td>mask_vt</td>\n",
       "      <td>scissors</td>\n",
       "      <td>1</td>\n",
       "      <td>0.972222</td>\n",
       "    </tr>\n",
       "    <tr>\n",
       "      <th>2</th>\n",
       "      <td>sub_1</td>\n",
       "      <td>clf_accuracies</td>\n",
       "      <td>mask_vt</td>\n",
       "      <td>scissors</td>\n",
       "      <td>2</td>\n",
       "      <td>0.972222</td>\n",
       "    </tr>\n",
       "    <tr>\n",
       "      <th>3</th>\n",
       "      <td>sub_1</td>\n",
       "      <td>clf_accuracies</td>\n",
       "      <td>mask_vt</td>\n",
       "      <td>scissors</td>\n",
       "      <td>3</td>\n",
       "      <td>0.986111</td>\n",
       "    </tr>\n",
       "    <tr>\n",
       "      <th>4</th>\n",
       "      <td>sub_1</td>\n",
       "      <td>clf_accuracies</td>\n",
       "      <td>mask_vt</td>\n",
       "      <td>scissors</td>\n",
       "      <td>4</td>\n",
       "      <td>0.916667</td>\n",
       "    </tr>\n",
       "  </tbody>\n",
       "</table>\n",
       "</div>"
      ],
      "text/plain": [
       "  subject        analysis     mask  category  crossval_fold  accuracy\n",
       "0   sub_1  clf_accuracies  mask_vt  scissors              0  0.902778\n",
       "1   sub_1  clf_accuracies  mask_vt  scissors              1  0.972222\n",
       "2   sub_1  clf_accuracies  mask_vt  scissors              2  0.972222\n",
       "3   sub_1  clf_accuracies  mask_vt  scissors              3  0.986111\n",
       "4   sub_1  clf_accuracies  mask_vt  scissors              4  0.916667"
      ]
     },
     "execution_count": 251,
     "metadata": {},
     "output_type": "execute_result"
    }
   ],
   "source": [
    "results_df.head()"
   ]
  },
  {
   "cell_type": "markdown",
   "metadata": {},
   "source": [
    "Again, let's wrap all of this in a function and generate our results so we can replicate this over and over again:"
   ]
  },
  {
   "cell_type": "code",
   "execution_count": 253,
   "metadata": {},
   "outputs": [],
   "source": [
    "def generate_cross_subj_perf(res_df):\n",
    "    res_df = res_df.unstack().reset_index()\n",
    "    res_df.columns = [\"subject\",\"analysis\",\"mask\",\"category\",\"cv_fold\",\"accuracy\"]\n",
    "    return res_df"
   ]
  },
  {
   "cell_type": "code",
   "execution_count": 256,
   "metadata": {},
   "outputs": [],
   "source": [
    "results_df = pd.DataFrame.from_dict({(i,j,k,l): all_subj_data[i][j][k][l]\n",
    "                                        for i in all_subj_data.keys()\n",
    "                                        for j in all_subj_data[i].keys()\n",
    "                                        for k in all_subj_data[i][j].keys()\n",
    "                                        for l in all_subj_data[i][j][k].keys()},\n",
    "                                    orient=\"columns\")"
   ]
  },
  {
   "cell_type": "code",
   "execution_count": 258,
   "metadata": {},
   "outputs": [],
   "source": [
    "results_df = generate_cross_subj_perf(results_df)"
   ]
  },
  {
   "cell_type": "code",
   "execution_count": 259,
   "metadata": {},
   "outputs": [
    {
     "data": {
      "text/html": [
       "<div>\n",
       "<style scoped>\n",
       "    .dataframe tbody tr th:only-of-type {\n",
       "        vertical-align: middle;\n",
       "    }\n",
       "\n",
       "    .dataframe tbody tr th {\n",
       "        vertical-align: top;\n",
       "    }\n",
       "\n",
       "    .dataframe thead th {\n",
       "        text-align: right;\n",
       "    }\n",
       "</style>\n",
       "<table border=\"1\" class=\"dataframe\">\n",
       "  <thead>\n",
       "    <tr style=\"text-align: right;\">\n",
       "      <th></th>\n",
       "      <th>subject</th>\n",
       "      <th>analysis</th>\n",
       "      <th>mask</th>\n",
       "      <th>category</th>\n",
       "      <th>cv_fold</th>\n",
       "      <th>accuracy</th>\n",
       "    </tr>\n",
       "  </thead>\n",
       "  <tbody>\n",
       "    <tr>\n",
       "      <th>0</th>\n",
       "      <td>sub_1</td>\n",
       "      <td>clf_accuracies</td>\n",
       "      <td>mask_vt</td>\n",
       "      <td>scissors</td>\n",
       "      <td>0</td>\n",
       "      <td>0.902778</td>\n",
       "    </tr>\n",
       "    <tr>\n",
       "      <th>1</th>\n",
       "      <td>sub_1</td>\n",
       "      <td>clf_accuracies</td>\n",
       "      <td>mask_vt</td>\n",
       "      <td>scissors</td>\n",
       "      <td>1</td>\n",
       "      <td>0.972222</td>\n",
       "    </tr>\n",
       "    <tr>\n",
       "      <th>2</th>\n",
       "      <td>sub_1</td>\n",
       "      <td>clf_accuracies</td>\n",
       "      <td>mask_vt</td>\n",
       "      <td>scissors</td>\n",
       "      <td>2</td>\n",
       "      <td>0.972222</td>\n",
       "    </tr>\n",
       "    <tr>\n",
       "      <th>3</th>\n",
       "      <td>sub_1</td>\n",
       "      <td>clf_accuracies</td>\n",
       "      <td>mask_vt</td>\n",
       "      <td>scissors</td>\n",
       "      <td>3</td>\n",
       "      <td>0.986111</td>\n",
       "    </tr>\n",
       "    <tr>\n",
       "      <th>4</th>\n",
       "      <td>sub_1</td>\n",
       "      <td>clf_accuracies</td>\n",
       "      <td>mask_vt</td>\n",
       "      <td>scissors</td>\n",
       "      <td>4</td>\n",
       "      <td>0.916667</td>\n",
       "    </tr>\n",
       "  </tbody>\n",
       "</table>\n",
       "</div>"
      ],
      "text/plain": [
       "  subject        analysis     mask  category  cv_fold  accuracy\n",
       "0   sub_1  clf_accuracies  mask_vt  scissors        0  0.902778\n",
       "1   sub_1  clf_accuracies  mask_vt  scissors        1  0.972222\n",
       "2   sub_1  clf_accuracies  mask_vt  scissors        2  0.972222\n",
       "3   sub_1  clf_accuracies  mask_vt  scissors        3  0.986111\n",
       "4   sub_1  clf_accuracies  mask_vt  scissors        4  0.916667"
      ]
     },
     "execution_count": 259,
     "metadata": {},
     "output_type": "execute_result"
    }
   ],
   "source": [
    "results_df.head()"
   ]
  },
  {
   "cell_type": "markdown",
   "metadata": {},
   "source": [
    "## TODO\n",
    "* Can you compute the cross-subject average accuracies on a per-mask, per-category basis?"
   ]
  },
  {
   "cell_type": "code",
   "execution_count": 239,
   "metadata": {},
   "outputs": [],
   "source": [
    "pass"
   ]
  },
  {
   "cell_type": "markdown",
   "metadata": {},
   "source": [
    "We can now make a simple bar plot to summarize the results across all subjects\n",
    "---------------------------------------------------"
   ]
  },
  {
   "cell_type": "code",
   "execution_count": 262,
   "metadata": {},
   "outputs": [
    {
     "name": "stderr",
     "output_type": "stream",
     "text": [
      "/usr/local/lib/python3.7/site-packages/scipy/stats/stats.py:1713: FutureWarning: Using a non-tuple sequence for multidimensional indexing is deprecated; use `arr[tuple(seq)]` instead of `arr[seq]`. In the future this will be interpreted as an array index, `arr[np.array(seq)]`, which will result either in an error or a different result.\n",
      "  return np.add.reduce(sorted[indexer] * weights, axis=axis) / sumval\n"
     ]
    },
    {
     "data": {
      "image/png": "[encoded data removed]",
      "text/plain": [
       "<Figure size 720x720 with 1 Axes>"
      ]
     },
     "metadata": {},
     "output_type": "display_data"
    }
   ],
   "source": [
    "fig = plt.figure(figsize=(10,10))\n",
    "sns.barplot(x=\"mask\", y=\"accuracy\", hue=\"category\",data=results_df[results_df.analysis==\"clf_accuracies\"],ci=98)\n",
    "plt.ylim(0,1)\n",
    "plt.title(\"Accuracies using SVM\");"
   ]
  },
  {
   "cell_type": "code",
   "execution_count": 263,
   "metadata": {},
   "outputs": [
    {
     "name": "stderr",
     "output_type": "stream",
     "text": [
      "/usr/local/lib/python3.7/site-packages/scipy/stats/stats.py:1713: FutureWarning: Using a non-tuple sequence for multidimensional indexing is deprecated; use `arr[tuple(seq)]` instead of `arr[seq]`. In the future this will be interpreted as an array index, `arr[np.array(seq)]`, which will result either in an error or a different result.\n",
      "  return np.add.reduce(sorted[indexer] * weights, axis=axis) / sumval\n"
     ]
    },
    {
     "data": {
      "image/png": "[encoded data removed]",
      "text/plain": [
       "<Figure size 720x720 with 1 Axes>"
      ]
     },
     "metadata": {},
     "output_type": "display_data"
    }
   ],
   "source": [
    "fig = plt.figure(figsize=(10,10))\n",
    "sns.barplot(x=\"mask\", y=\"accuracy\", hue=\"category\",data=results_df[results_df.analysis==\"chance_accuracies\"],ci=98)\n",
    "plt.ylim(0,1)\n",
    "plt.title(\"Accuracies using Dummy Classifier\");"
   ]
  },
  {
   "cell_type": "markdown",
   "metadata": {},
   "source": [
    "We can even combine the two using `seaborn`'s `catplot` function (`seaborn` was made by a neuroscience grad student at stanford and is super awesome):"
   ]
  },
  {
   "cell_type": "code",
   "execution_count": 270,
   "metadata": {},
   "outputs": [
    {
     "name": "stderr",
     "output_type": "stream",
     "text": [
      "/usr/local/lib/python3.7/site-packages/scipy/stats/stats.py:1713: FutureWarning: Using a non-tuple sequence for multidimensional indexing is deprecated; use `arr[tuple(seq)]` instead of `arr[seq]`. In the future this will be interpreted as an array index, `arr[np.array(seq)]`, which will result either in an error or a different result.\n",
      "  return np.add.reduce(sorted[indexer] * weights, axis=axis) / sumval\n"
     ]
    },
    {
     "data": {
      "image/png": "[encoded data removed]",
      "text/plain": [
       "<Figure size 607.25x504 with 2 Axes>"
      ]
     },
     "metadata": {},
     "output_type": "display_data"
    }
   ],
   "source": [
    "sns.catplot(x=\"mask\", y=\"accuracy\",hue=\"category\", col=\"analysis\",data=results_df, kind=\"bar\",height=7, aspect=.5);"
   ]
  },
  {
   "cell_type": "markdown",
   "metadata": {},
   "source": [
    "Pretty cool huh!\n",
    "\n",
    "If we want to change classifers, we just change the classifier in one place (at the top of the script.)\n",
    "\n",
    "However, what we've done so far is several different pairwise comparisons between a target category and the remaining categories. We can actually attempt to resolve all categories from each other in order to generate confusion matrices, which will tell us how the categories are related to each other (how they are confused among each other).\n",
    "\n",
    "This is what we will do now.\n",
    "\n",
    "## Generating Confusion Matrices within a given ROI and visualizing category relationships using Multidimensional Scaling (MDS)"
   ]
  },
  {
   "cell_type": "code",
   "execution_count": null,
   "metadata": {},
   "outputs": [],
   "source": [
    "def compute_confusions_per_subject(subj_num,mask_name,LinearSVC(multi_class=\"crammer-singer\")):\n",
    "    #get appropriate labels for current subject\n",
    "    stim_cur_subj,task_mask_cur_subj,session_labels_cur_subj = get_subject_task_and_session_data(subj_num)\n",
    "    mask_filename = haxby_dataset[mask_name][subj_num]\n",
    "    # For decoding, standardizing is often very important\n",
    "    masker = NiftiMasker(mask_img=mask_filename, standardize=True) #standard scaling the timeseries at each voxel location to have mean 0 variance 1\n",
    "    masked_timecourses = masker.fit_transform(haxby_dataset.func[subj_num])[task_mask_cur_subj]\n",
    "    mask_scores[mask_name] = {}\n",
    "    mask_chance_scores[mask_name] = {}\n",
    "        \n",
    "        for category in categories:\n",
    "            print(\"Processing %s %s\" % (mask_name, category))\n",
    "            classification_target = (stim_cur_subj[task_mask_cur_subj] == category)\n",
    "            mask_scores[mask_name][category] = cross_val_score(\n",
    "                clf,\n",
    "                masked_timecourses,\n",
    "                classification_target,\n",
    "                cv=cv,\n",
    "                groups=session_labels_cur_subj,\n",
    "                scoring=\"accuracy\",\n",
    "            )\n",
    "\n",
    "            mask_chance_scores[mask_name][category] = cross_val_score(\n",
    "                dummy_classifier,\n",
    "                masked_timecourses,\n",
    "                classification_target,\n",
    "                cv=cv,\n",
    "                groups=session_labels_cur_subj,\n",
    "                scoring=\"accuracy\",\n",
    "            )\n",
    "\n",
    "#             print(\"Scores: %1.2f +- %1.2f\" % (\n",
    "#                 mask_scores[mask_name][category].mean(),\n",
    "#                 mask_scores[mask_name][category].std()))\n",
    "#             print(\"Chance Scores: %1.2f +- %1.2f\" % (\n",
    "#                 mask_chance_scores[mask_name][category].mean(),\n",
    "#                 mask_chance_scores[mask_name][category].std()))\n",
    "    #return the mask scores to the user\n",
    "    return mask_scores,mask_chance_scores"
   ]
  },
  {
   "cell_type": "code",
   "execution_count": 294,
   "metadata": {},
   "outputs": [],
   "source": [
    "from sklearn.model_selection import cross_val_predict\n",
    "from sklearn.metrics import confusion_matrix"
   ]
  },
  {
   "cell_type": "markdown",
   "metadata": {},
   "source": [
    "Let's attempt to generate a confusion matrix for one subject and his/her corresponding MDS representation of that matrix (and then extend across all subjects :))."
   ]
  },
  {
   "cell_type": "code",
   "execution_count": 275,
   "metadata": {},
   "outputs": [],
   "source": [
    "#get appropriate labels for subject 1, vt mask\n",
    "subj_num=0\n",
    "mask_name = \"mask_vt\"\n",
    "\n",
    "stim_cur_subj,task_mask_cur_subj,session_labels_cur_subj = get_subject_task_and_session_data(subj_num)\n",
    "mask_filename = haxby_dataset[mask_name][subj_num]\n",
    "\n",
    "masker = NiftiMasker(mask_img=mask_filename, standardize=True) #standard scaling the timeseries at each voxel location to have mean 0 variance 1\n",
    "masked_timecourses = masker.fit_transform(haxby_dataset.func[subj_num])[task_mask_cur_subj]\n"
   ]
  },
  {
   "cell_type": "code",
   "execution_count": 287,
   "metadata": {},
   "outputs": [
    {
     "data": {
      "text/plain": [
       "(864, 577)"
      ]
     },
     "execution_count": 287,
     "metadata": {},
     "output_type": "execute_result"
    }
   ],
   "source": [
    "masked_timecourses"
   ]
  },
  {
   "cell_type": "code",
   "execution_count": 278,
   "metadata": {},
   "outputs": [],
   "source": [
    "from sklearn.preprocessing import LabelEncoder\n",
    "le = LabelEncoder()"
   ]
  },
  {
   "cell_type": "code",
   "execution_count": 289,
   "metadata": {},
   "outputs": [],
   "source": [
    "classification_target = le.fit_transform(stim_cur_subj[task_mask_cur_subj])"
   ]
  },
  {
   "cell_type": "code",
   "execution_count": 290,
   "metadata": {},
   "outputs": [
    {
     "data": {
      "text/plain": [
       "array([5, 5, 5, 5, 5, 5, 5, 5, 5, 3])"
      ]
     },
     "execution_count": 290,
     "metadata": {},
     "output_type": "execute_result"
    }
   ],
   "source": [
    "classification_target[:10]"
   ]
  },
  {
   "cell_type": "code",
   "execution_count": 292,
   "metadata": {},
   "outputs": [
    {
     "data": {
      "text/plain": [
       "array(['scissors', 'scissors', 'scissors', 'scissors', 'scissors',\n",
       "       'scissors', 'scissors', 'scissors', 'scissors', 'face'],\n",
       "      dtype=object)"
      ]
     },
     "execution_count": 292,
     "metadata": {},
     "output_type": "execute_result"
    }
   ],
   "source": [
    "le.inverse_transform(classification_target[:10])"
   ]
  },
  {
   "cell_type": "code",
   "execution_count": 309,
   "metadata": {},
   "outputs": [],
   "source": [
    "mapping = dict(zip(range(len(le.classes_)),le.classes_))"
   ]
  },
  {
   "cell_type": "code",
   "execution_count": 310,
   "metadata": {},
   "outputs": [
    {
     "data": {
      "text/plain": [
       "{0: 'bottle',\n",
       " 1: 'cat',\n",
       " 2: 'chair',\n",
       " 3: 'face',\n",
       " 4: 'house',\n",
       " 5: 'scissors',\n",
       " 6: 'scrambledpix',\n",
       " 7: 'shoe'}"
      ]
     },
     "execution_count": 310,
     "metadata": {},
     "output_type": "execute_result"
    }
   ],
   "source": [
    "mapping"
   ]
  },
  {
   "cell_type": "code",
   "execution_count": null,
   "metadata": {},
   "outputs": [],
   "source": [
    "mask_scores[mask_name] = cross_val_score(\n",
    "            clf,\n",
    "            masked_timecourses,\n",
    "            classification_target,\n",
    "            cv=cv,\n",
    "            groups=session_labels_cur_subj,\n",
    "            scoring=\"accuracy\",\n",
    "            )"
   ]
  },
  {
   "cell_type": "code",
   "execution_count": 303,
   "metadata": {},
   "outputs": [
    {
     "name": "stderr",
     "output_type": "stream",
     "text": [
      "/usr/local/lib/python3.7/site-packages/sklearn/svm/base.py:922: ConvergenceWarning: Liblinear failed to converge, increase the number of iterations.\n",
      "  \"the number of iterations.\", ConvergenceWarning)\n",
      "/usr/local/lib/python3.7/site-packages/sklearn/svm/base.py:922: ConvergenceWarning: Liblinear failed to converge, increase the number of iterations.\n",
      "  \"the number of iterations.\", ConvergenceWarning)\n",
      "/usr/local/lib/python3.7/site-packages/sklearn/svm/base.py:922: ConvergenceWarning: Liblinear failed to converge, increase the number of iterations.\n",
      "  \"the number of iterations.\", ConvergenceWarning)\n",
      "/usr/local/lib/python3.7/site-packages/sklearn/svm/base.py:922: ConvergenceWarning: Liblinear failed to converge, increase the number of iterations.\n",
      "  \"the number of iterations.\", ConvergenceWarning)\n",
      "/usr/local/lib/python3.7/site-packages/sklearn/svm/base.py:922: ConvergenceWarning: Liblinear failed to converge, increase the number of iterations.\n",
      "  \"the number of iterations.\", ConvergenceWarning)\n",
      "/usr/local/lib/python3.7/site-packages/sklearn/svm/base.py:922: ConvergenceWarning: Liblinear failed to converge, increase the number of iterations.\n",
      "  \"the number of iterations.\", ConvergenceWarning)\n",
      "/usr/local/lib/python3.7/site-packages/sklearn/svm/base.py:922: ConvergenceWarning: Liblinear failed to converge, increase the number of iterations.\n",
      "  \"the number of iterations.\", ConvergenceWarning)\n",
      "/usr/local/lib/python3.7/site-packages/sklearn/svm/base.py:922: ConvergenceWarning: Liblinear failed to converge, increase the number of iterations.\n",
      "  \"the number of iterations.\", ConvergenceWarning)\n",
      "/usr/local/lib/python3.7/site-packages/sklearn/svm/base.py:922: ConvergenceWarning: Liblinear failed to converge, increase the number of iterations.\n",
      "  \"the number of iterations.\", ConvergenceWarning)\n",
      "/usr/local/lib/python3.7/site-packages/sklearn/svm/base.py:922: ConvergenceWarning: Liblinear failed to converge, increase the number of iterations.\n",
      "  \"the number of iterations.\", ConvergenceWarning)\n"
     ]
    }
   ],
   "source": [
    "y_pred = cross_val_predict(LinearSVC(C=1.,multi_class=\"crammer_singer\",max_iter=10000),\n",
    "                           masked_timecourses,\n",
    "                           classification_target,\n",
    "                           cv=cv,\n",
    "                           groups=session_labels_cur_subj,\n",
    "                           n_jobs=-1)\n",
    "conf_mat = confusion_matrix(classification_target,y_pred)"
   ]
  },
  {
   "cell_type": "code",
   "execution_count": 305,
   "metadata": {},
   "outputs": [
    {
     "data": {
      "text/plain": [
       "array([[ 50,   6,   1,   1,   0,  28,   2,  20],\n",
       "       [  3,  81,   0,  13,   1,   5,   2,   3],\n",
       "       [  6,   2,  69,   0,   1,  23,   0,   7],\n",
       "       [  1,  27,   0,  78,   0,   1,   0,   1],\n",
       "       [  0,   0,   1,   0, 107,   0,   0,   0],\n",
       "       [  2,   2,   2,   0,   0,  91,   0,  11],\n",
       "       [  3,   8,   1,   2,   4,  20,  65,   5],\n",
       "       [ 16,   3,   1,   1,   0,  17,   0,  70]])"
      ]
     },
     "execution_count": 305,
     "metadata": {},
     "output_type": "execute_result"
    }
   ],
   "source": [
    "conf_mat"
   ]
  },
  {
   "cell_type": "code",
   "execution_count": 312,
   "metadata": {},
   "outputs": [
    {
     "data": {
      "text/plain": [
       "<matplotlib.axes._subplots.AxesSubplot at 0x11e8b1438>"
      ]
     },
     "execution_count": 312,
     "metadata": {},
     "output_type": "execute_result"
    },
    {
     "data": {
      "image/png": "[encoded data removed]",
      "text/plain": [
       "<Figure size 720x504 with 2 Axes>"
      ]
     },
     "metadata": {},
     "output_type": "display_data"
    }
   ],
   "source": [
    "subj1_cm = pd.DataFrame(conf_mat, index = [ mapping[i] for i in range(len(le.classes_))],\n",
    "                  columns = [mapping[i] for i in range(len(le.classes_))])\n",
    "plt.figure(figsize = (10,7))\n",
    "sns.heatmap(subj1_cm, annot=True)"
   ]
  },
  {
   "cell_type": "markdown",
   "metadata": {},
   "source": [
    "This confusion matrix is useful, but it's not symmetric, so we can't actually use it for multidimensional scaling here (we need a symmetric matrix). We can compute a distance matrix from the confusions using some functions from `scipy` and the `fastcluster` package"
   ]
  },
  {
   "cell_type": "code",
   "execution_count": 414,
   "metadata": {},
   "outputs": [],
   "source": [
    "from fastcluster import pdist\n",
    "from scipy.spatial.distance import squareform"
   ]
  },
  {
   "cell_type": "code",
   "execution_count": 419,
   "metadata": {},
   "outputs": [
    {
     "data": {
      "text/plain": [
       "Text(0.5,1,'euclidean distances, subject 1')"
      ]
     },
     "execution_count": 419,
     "metadata": {},
     "output_type": "execute_result"
    },
    {
     "data": {
      "image/png": "[encoded data removed]",
      "text/plain": [
       "<Figure size 432x288 with 2 Axes>"
      ]
     },
     "metadata": {},
     "output_type": "display_data"
    }
   ],
   "source": [
    "euc_dists_subj1 = squareform(pdist(subj1_cm))\n",
    "euc_dists_subj1 = pd.DataFrame(euc_dists_subj1,\n",
    "                               index = [ mapping[i] for i in range(len(le.classes_))],\n",
    "                               columns = [mapping[i] for i in range(len(le.classes_))])\n",
    "sns.heatmap(euc_dists_subj1)\n",
    "plt.title(\"euclidean distances, subject 1\")"
   ]
  },
  {
   "cell_type": "markdown",
   "metadata": {},
   "source": [
    "Now we're ready to compute the MDS representation of this distance matrix using the `MDS` class in `scikit-learn`:"
   ]
  },
  {
   "cell_type": "code",
   "execution_count": 432,
   "metadata": {},
   "outputs": [],
   "source": [
    "from sklearn.manifold import mds"
   ]
  },
  {
   "cell_type": "code",
   "execution_count": 433,
   "metadata": {},
   "outputs": [],
   "source": [
    "mds_subj1 = mds.MDS(dissimilarity=\"precomputed\",n_init=20,max_iter=10000)\n",
    "mds_solution_subj1 = mds_subj1.fit_transform(euc_dists_subj1)"
   ]
  },
  {
   "cell_type": "code",
   "execution_count": 434,
   "metadata": {},
   "outputs": [],
   "source": [
    "mds_solution_subj1 = pd.DataFrame(mds_solution_subj1,\n",
    "                                  index=euc_dists_subj1.index,columns=[\"x\",\"y\"]).reset_index()\n",
    "mds_solution_subj1.columns = [\"category\"]+ mds_solution_subj1.columns.tolist()[1:]"
   ]
  },
  {
   "cell_type": "code",
   "execution_count": 435,
   "metadata": {},
   "outputs": [
    {
     "data": {
      "image/png": "[encoded data removed]",
      "text/plain": [
       "<Figure size 1440x720 with 1 Axes>"
      ]
     },
     "metadata": {},
     "output_type": "display_data"
    }
   ],
   "source": [
    "ax = sns.lmplot('x', # Horizontal axis\n",
    "           'y', # Vertical axis\n",
    "           data=mds_solution_subj1, # Data source\n",
    "           fit_reg=False, # Don't fix a regression line\n",
    "           height = 10,\n",
    "           aspect =2 ) #\n",
    "def label_point(x, y, val, ax):\n",
    "    a = pd.concat({'x': x, 'y': y, 'val': val}, axis=1)\n",
    "    for i, point in a.iterrows():\n",
    "        ax.text(point['x']+.02, point['y'], str(point['val']))\n",
    "\n",
    "label_point(mds_solution_subj1.x, mds_solution_subj1.y, mds_solution_subj1.category, plt.gca())\n",
    "plt.axis('off');#remove all axis information and just plot the points"
   ]
  },
  {
   "cell_type": "markdown",
   "metadata": {},
   "source": [
    "## TODO\n",
    "\n",
    "* Can you do the same analysis across all 6 subjects? One way to do this is to sum all confusion matrices together, compute the final euclidean distance matrix and then run MDS on the grouped distance matrix."
   ]
  },
  {
   "cell_type": "code",
   "execution_count": null,
   "metadata": {},
   "outputs": [],
   "source": [
    "pass"
   ]
  }
 ],
 "metadata": {
  "kernelspec": {
   "display_name": "Python 3",
   "language": "python",
   "name": "python3"
  },
  "language_info": {
   "codemirror_mode": {
    "name": "ipython",
    "version": 2
   },
   "file_extension": ".py",
   "mimetype": "text/x-python",
   "name": "python",
   "nbconvert_exporter": "python",
   "pygments_lexer": "ipython2",
   "version": "2.7.15"
  }
 },
 "nbformat": 4,
 "nbformat_minor": 1
}
