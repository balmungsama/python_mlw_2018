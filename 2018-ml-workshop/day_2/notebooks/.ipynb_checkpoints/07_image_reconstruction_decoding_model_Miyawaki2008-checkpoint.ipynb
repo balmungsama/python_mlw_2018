{
 "cells": [
  {
   "cell_type": "code",
   "execution_count": 1,
   "metadata": {},
   "outputs": [],
   "source": [
    "%matplotlib inline"
   ]
  },
  {
   "cell_type": "markdown",
   "metadata": {},
   "source": [
    "\n",
    "Reconstruction of visual stimuli from Miyawaki et al. 2008\n",
    "==========================================================\n",
    "\n",
    "This example reproduces the additional experiment and analysis presented in [Visual image reconstruction from human brain activity using a combination of multiscale local image decoders](http://www.cell.com/neuron/abstract/S0896-6273%2808%2900958-6)\n",
    "\n",
    "Here, we reconstruct 10x10 binary images from functional MRI data. Random images are used as a training set and structured images are used for reconstruction.\n",
    "\n",
    "The code is a bit elaborate as the example uses, as the original article, a multiscale prediction on the images seen by the subject."
   ]
  },
  {
   "cell_type": "code",
   "execution_count": 2,
   "metadata": {},
   "outputs": [],
   "source": [
    "# Some basic imports\n",
    "import time\n",
    "import sys"
   ]
  },
  {
   "cell_type": "markdown",
   "metadata": {},
   "source": [
    "First we load the Miyawaki dataset\n",
    "-----------------------------------\n",
    "\n"
   ]
  },
  {
   "cell_type": "code",
   "execution_count": 3,
   "metadata": {},
   "outputs": [
    {
     "name": "stderr",
     "output_type": "stream",
     "text": [
      "/anaconda3/lib/python3.6/site-packages/h5py/__init__.py:36: FutureWarning: Conversion of the second argument of issubdtype from `float` to `np.floating` is deprecated. In future, it will be treated as `np.float64 == np.dtype(float).type`.\n",
      "  from ._conv import register_converters as _register_converters\n"
     ]
    },
    {
     "name": "stdout",
     "output_type": "stream",
     "text": [
      "Downloading data from https://www.nitrc.org/frs/download.php/8486/miyawaki2008.tgz ...\n"
     ]
    },
    {
     "name": "stderr",
     "output_type": "stream",
     "text": [
      "Downloaded 161069109 of 161069109 bytes (100.0%,    0.0s remaining) ...done. (393 seconds, 6 min)\n",
      "Extracting data from /Users/suesong/nilearn_data/miyawaki2008/4356183cd5ae215342603c6edeb89f54/miyawaki2008.tgz..."
     ]
    },
    {
     "name": "stdout",
     "output_type": "stream",
     "text": [
      "Error uncompressing file: Error -3 while decompressing data: invalid distance code\n"
     ]
    },
    {
     "ename": "OSError",
     "evalue": "Fetching aborted: Error -3 while decompressing data: invalid distance code",
     "output_type": "error",
     "traceback": [
      "\u001b[0;31m---------------------------------------------------------------------------\u001b[0m",
      "\u001b[0;31mOSError\u001b[0m                                   Traceback (most recent call last)",
      "\u001b[0;32m<ipython-input-3-928563828da5>\u001b[0m in \u001b[0;36m<module>\u001b[0;34m()\u001b[0m\n\u001b[1;32m      2\u001b[0m \u001b[0mt0\u001b[0m \u001b[0;34m=\u001b[0m \u001b[0mtime\u001b[0m\u001b[0;34m.\u001b[0m\u001b[0mtime\u001b[0m\u001b[0;34m(\u001b[0m\u001b[0;34m)\u001b[0m\u001b[0;34m\u001b[0m\u001b[0m\n\u001b[1;32m      3\u001b[0m \u001b[0;34m\u001b[0m\u001b[0m\n\u001b[0;32m----> 4\u001b[0;31m \u001b[0mmiyawaki_dataset\u001b[0m \u001b[0;34m=\u001b[0m \u001b[0mdatasets\u001b[0m\u001b[0;34m.\u001b[0m\u001b[0mfetch_miyawaki2008\u001b[0m\u001b[0;34m(\u001b[0m\u001b[0;34m)\u001b[0m\u001b[0;34m\u001b[0m\u001b[0m\n\u001b[0m\u001b[1;32m      5\u001b[0m \u001b[0;34m\u001b[0m\u001b[0m\n\u001b[1;32m      6\u001b[0m \u001b[0mX_random_filenames\u001b[0m \u001b[0;34m=\u001b[0m \u001b[0mmiyawaki_dataset\u001b[0m\u001b[0;34m.\u001b[0m\u001b[0mfunc\u001b[0m\u001b[0;34m[\u001b[0m\u001b[0;36m12\u001b[0m\u001b[0;34m:\u001b[0m\u001b[0;34m]\u001b[0m\u001b[0;34m\u001b[0m\u001b[0m\n",
      "\u001b[0;32m/anaconda3/lib/python3.6/site-packages/nilearn/datasets/func.py\u001b[0m in \u001b[0;36mfetch_miyawaki2008\u001b[0;34m(data_dir, url, resume, verbose)\u001b[0m\n\u001b[1;32m    645\u001b[0m     data_dir = _get_dataset_dir(dataset_name, data_dir=data_dir,\n\u001b[1;32m    646\u001b[0m                                 verbose=verbose)\n\u001b[0;32m--> 647\u001b[0;31m     \u001b[0mfiles\u001b[0m \u001b[0;34m=\u001b[0m \u001b[0m_fetch_files\u001b[0m\u001b[0;34m(\u001b[0m\u001b[0mdata_dir\u001b[0m\u001b[0;34m,\u001b[0m \u001b[0mfile_names\u001b[0m\u001b[0;34m,\u001b[0m \u001b[0mresume\u001b[0m\u001b[0;34m=\u001b[0m\u001b[0mresume\u001b[0m\u001b[0;34m,\u001b[0m \u001b[0mverbose\u001b[0m\u001b[0;34m=\u001b[0m\u001b[0mverbose\u001b[0m\u001b[0;34m)\u001b[0m\u001b[0;34m\u001b[0m\u001b[0m\n\u001b[0m\u001b[1;32m    648\u001b[0m \u001b[0;34m\u001b[0m\u001b[0m\n\u001b[1;32m    649\u001b[0m     \u001b[0;31m# Fetch the background image\u001b[0m\u001b[0;34m\u001b[0m\u001b[0;34m\u001b[0m\u001b[0m\n",
      "\u001b[0;32m/anaconda3/lib/python3.6/site-packages/nilearn/datasets/utils.py\u001b[0m in \u001b[0;36m_fetch_files\u001b[0;34m(data_dir, files, resume, mock, verbose)\u001b[0m\n\u001b[1;32m    764\u001b[0m             \u001b[0;32mif\u001b[0m \u001b[0mos\u001b[0m\u001b[0;34m.\u001b[0m\u001b[0mpath\u001b[0m\u001b[0;34m.\u001b[0m\u001b[0mexists\u001b[0m\u001b[0;34m(\u001b[0m\u001b[0mtemp_dir\u001b[0m\u001b[0;34m)\u001b[0m\u001b[0;34m:\u001b[0m\u001b[0;34m\u001b[0m\u001b[0m\n\u001b[1;32m    765\u001b[0m                 \u001b[0mshutil\u001b[0m\u001b[0;34m.\u001b[0m\u001b[0mrmtree\u001b[0m\u001b[0;34m(\u001b[0m\u001b[0mtemp_dir\u001b[0m\u001b[0;34m)\u001b[0m\u001b[0;34m\u001b[0m\u001b[0m\n\u001b[0;32m--> 766\u001b[0;31m             \u001b[0;32mraise\u001b[0m \u001b[0mIOError\u001b[0m\u001b[0;34m(\u001b[0m\u001b[0;34m'Fetching aborted: '\u001b[0m \u001b[0;34m+\u001b[0m \u001b[0mabort\u001b[0m\u001b[0;34m)\u001b[0m\u001b[0;34m\u001b[0m\u001b[0m\n\u001b[0m\u001b[1;32m    767\u001b[0m         \u001b[0mfiles_\u001b[0m\u001b[0;34m.\u001b[0m\u001b[0mappend\u001b[0m\u001b[0;34m(\u001b[0m\u001b[0mtarget_file\u001b[0m\u001b[0;34m)\u001b[0m\u001b[0;34m\u001b[0m\u001b[0m\n\u001b[1;32m    768\u001b[0m     \u001b[0;31m# If needed, move files from temps directory to final directory.\u001b[0m\u001b[0;34m\u001b[0m\u001b[0;34m\u001b[0m\u001b[0m\n",
      "\u001b[0;31mOSError\u001b[0m: Fetching aborted: Error -3 while decompressing data: invalid distance code"
     ]
    }
   ],
   "source": [
    "from nilearn import datasets\n",
    "t0 = time.time()\n",
    "\n",
    "miyawaki_dataset = datasets.fetch_miyawaki2008()\n",
    "\n",
    "X_random_filenames = miyawaki_dataset.func[12:]\n",
    "X_figure_filenames = miyawaki_dataset.func[:12]\n",
    "y_random_filenames = miyawaki_dataset.label[12:]\n",
    "y_figure_filenames = miyawaki_dataset.label[:12]\n",
    "y_shape = (10, 10)"
   ]
  },
  {
   "cell_type": "markdown",
   "metadata": {},
   "source": [
    "Then we prepare and mask the data\n",
    "----------------------------------\n",
    "\n"
   ]
  },
  {
   "cell_type": "code",
   "execution_count": 19,
   "metadata": {},
   "outputs": [],
   "source": [
    "import numpy as np\n",
    "from nilearn.input_data import MultiNiftiMasker\n",
    "\n",
    "# Load and mask fMRI data\n",
    "masker = MultiNiftiMasker(mask_img=miyawaki_dataset.mask, detrend=True,\n",
    "                          standardize=False)\n",
    "masker.fit()\n",
    "X_train = masker.transform(X_random_filenames)\n",
    "X_test = masker.transform(X_figure_filenames)\n",
    "\n",
    "# We load the visual stimuli from csv files\n",
    "y_train = []\n",
    "for y in y_random_filenames:\n",
    "    y_train.append(np.reshape(np.loadtxt(y, dtype=np.int, delimiter=','),\n",
    "                              (-1,) + y_shape, order='F'))\n",
    "\n",
    "y_test = []\n",
    "for y in y_figure_filenames:\n",
    "    y_test.append(np.reshape(np.loadtxt(y, dtype=np.int, delimiter=','),\n",
    "                             (-1,) + y_shape, order='F'))"
   ]
  },
  {
   "cell_type": "code",
   "execution_count": 16,
   "metadata": {},
   "outputs": [],
   "source": [
    "X_train = np.vstack([x[2:] for x in X_train])\n",
    "y_train = np.vstack([y[:-2] for y in y_train]).astype(float)\n",
    "X_test = np.vstack([x[2:] for x in X_test])\n",
    "y_test = np.vstack([y[:-2] for y in y_test]).astype(float)\n",
    "\n",
    "n_pixels = y_train.shape[1]\n",
    "n_features = X_train.shape[1]"
   ]
  },
  {
   "cell_type": "code",
   "execution_count": 18,
   "metadata": {},
   "outputs": [
    {
     "data": {
      "text/plain": [
       "(22880, 10)"
      ]
     },
     "execution_count": 18,
     "metadata": {},
     "output_type": "execute_result"
    }
   ],
   "source": [
    "y_train.shape"
   ]
  },
  {
   "cell_type": "code",
   "execution_count": 17,
   "metadata": {},
   "outputs": [
    {
     "name": "stdout",
     "output_type": "stream",
     "text": [
      "Pixels, features: 10 5436\n"
     ]
    }
   ],
   "source": [
    "print(\"Pixels, features: {} {}\".format(n_pixels,n_features))"
   ]
  },
  {
   "cell_type": "code",
   "execution_count": 5,
   "metadata": {},
   "outputs": [],
   "source": [
    "def flatten(list_of_2d_array):\n",
    "    flattened = []\n",
    "    for array in list_of_2d_array:\n",
    "        flattened.append(array.ravel())\n",
    "    return flattened\n",
    "\n",
    "\n",
    "# Build the design matrix for multiscale computation\n",
    "# Matrix is square, y_rows == y_cols\n",
    "y_cols = y_shape[1]\n",
    "\n",
    "# Original data\n",
    "design_matrix = np.eye(100)\n",
    "\n",
    "\n",
    "# Example of matrix used for multiscale (sum pixels vertically)\n",
    "#\n",
    "# 0.5 *\n",
    "#\n",
    "# 1 1 0 0 0 0 0 0 0 0\n",
    "# 0 1 1 0 0 0 0 0 0 0\n",
    "# 0 0 1 1 0 0 0 0 0 0\n",
    "# 0 0 0 1 1 0 0 0 0 0\n",
    "# 0 0 0 0 1 1 0 0 0 0\n",
    "# 0 0 0 0 0 1 1 0 0 0\n",
    "# 0 0 0 0 0 0 1 1 0 0\n",
    "# 0 0 0 0 0 0 0 1 1 0\n",
    "# 0 0 0 0 0 0 0 0 1 1\n",
    "\n",
    "height_tf = (np.eye(y_cols) + np.eye(y_cols, k=1))[:y_cols - 1] * .5\n",
    "width_tf = height_tf.T\n",
    "\n",
    "yt_tall = [np.dot(height_tf, m) for m in y_train]\n",
    "yt_large = [np.dot(m, width_tf) for m in y_train]\n",
    "yt_big = [np.dot(height_tf, np.dot(m, width_tf)) for m in y_train]\n",
    "\n",
    "# Add it to the training set\n",
    "y_train = [np.r_[y.ravel(), t.ravel(), l.ravel(), b.ravel()]\n",
    "           for y, t, l, b in zip(y_train, yt_tall, yt_large, yt_big)]\n",
    "\n",
    "y_test = np.asarray(flatten(y_test))\n",
    "y_train = np.asarray(y_train)\n",
    "\n",
    "# Remove rest period\n",
    "X_train = X_train[y_train[:, 0] != -1]\n",
    "y_train = y_train[y_train[:, 0] != -1]\n",
    "X_test = X_test[y_test[:, 0] != -1]\n",
    "y_test = y_test[y_test[:, 0] != -1]"
   ]
  },
  {
   "cell_type": "markdown",
   "metadata": {},
   "source": [
    "We define our prediction function\n",
    "-----------------------------------\n",
    "\n"
   ]
  },
  {
   "cell_type": "code",
   "execution_count": 6,
   "metadata": {},
   "outputs": [
    {
     "name": "stderr",
     "output_type": "stream",
     "text": [
      "Training classifiers 361/361... Done (414.04s).\n"
     ]
    }
   ],
   "source": [
    "# OMP: Orthogonal Matching Pursuit\n",
    "from sklearn.linear_model import OrthogonalMatchingPursuit as OMP\n",
    "from sklearn.feature_selection import f_classif, SelectKBest\n",
    "from sklearn.pipeline import Pipeline\n",
    "\n",
    "# Create as many OMP as voxels to predict\n",
    "clfs = []\n",
    "n_clfs = y_train.shape[1]\n",
    "for i in range(y_train.shape[1]):\n",
    "    sys.stderr.write(\"Training classifiers %03d/%d... \\r\" % (i + 1, n_clfs))\n",
    "    clf = Pipeline([('selection', SelectKBest(f_classif, 500)),\n",
    "                    ('clf', OMP(n_nonzero_coefs=10))])\n",
    "    clf.fit(X_train, y_train[:, i])\n",
    "    clfs.append(clf)\n",
    "\n",
    "sys.stderr.write(\"Training classifiers %03d/%d... Done (%.2fs).\\n\" % (\n",
    "    n_clfs, n_clfs, time.time() - t0))"
   ]
  },
  {
   "cell_type": "markdown",
   "metadata": {},
   "source": [
    "Here we run the prediction: the decoding itself\n",
    "------------------------------------------------\n",
    "\n"
   ]
  },
  {
   "cell_type": "code",
   "execution_count": 7,
   "metadata": {},
   "outputs": [
    {
     "name": "stderr",
     "output_type": "stream",
     "text": [
      " Done (428.74s).\n"
     ]
    }
   ],
   "source": [
    "y_pred = []\n",
    "for clf in clfs:\n",
    "    y_pred.append(clf.predict(X_test))\n",
    "y_pred = np.asarray(y_pred).T"
   ]
  },
  {
   "cell_type": "code",
   "execution_count": null,
   "metadata": {},
   "outputs": [],
   "source": [
    "# We need to do the multi scale reconstruction\n",
    "def split_multi_scale(y, y_shape):\n",
    "    \"\"\" Split data into 4 original multi_scale images\n",
    "    \"\"\"\n",
    "    yw, yh = y_shape\n",
    "\n",
    "    # Index of original image\n",
    "    split_index = [yw * yh]\n",
    "    # Index of large image\n",
    "    split_index.append(split_index[-1] + (yw - 1) * yh)\n",
    "    # Index of tall image\n",
    "    split_index.append(split_index[-1] + yw * (yh - 1))\n",
    "    # Index of big image\n",
    "    split_index.append(split_index[-1] + (yw - 1) * (yh - 1))\n",
    "\n",
    "    # We split according to computed indices\n",
    "    y_preds = np.split(y, split_index, axis=1)\n",
    "\n",
    "    # y_pred is the original image\n",
    "    y_pred = y_preds[0]\n",
    "\n",
    "    # y_pred_tall is the image with 1x2 patch application. We have to do\n",
    "    # some calculus to get it back in original shape\n",
    "    height_tf_i = (np.eye(y_cols) + np.eye(y_cols, k=-1))[:, :y_cols - 1] * .5\n",
    "    height_tf_i.flat[0] = 1\n",
    "    height_tf_i.flat[-1] = 1\n",
    "    y_pred_tall = [np.dot(height_tf_i, np.reshape(m, (yw - 1, yh))).flatten()\n",
    "                   for m in y_preds[1]]\n",
    "    y_pred_tall = np.asarray(y_pred_tall)\n",
    "\n",
    "    # y_pred_large is the image with 2x1 patch application. We have to make\n",
    "    # some calculus to get it back in original shape\n",
    "    width_tf_i = (np.eye(y_cols) + np.eye(y_cols, k=1))[:y_cols - 1] * .5\n",
    "    width_tf_i.flat[0] = 1\n",
    "    width_tf_i.flat[-1] = 1\n",
    "    y_pred_large = [np.dot(np.reshape(m, (yw, yh - 1)), width_tf_i).flatten()\n",
    "                    for m in y_preds[2]]\n",
    "    y_pred_large = np.asarray(y_pred_large)\n",
    "\n",
    "    # y_pred_big is the image with 2x2 patch application. We use previous\n",
    "    # matrices to get it back in original shape\n",
    "    y_pred_big = [np.dot(np.reshape(m, (yw - 1, yh - 1)), width_tf_i)\n",
    "                  for m in y_preds[3]]\n",
    "    y_pred_big = [np.dot(height_tf_i, np.reshape(m, (yw - 1, yh))).flatten()\n",
    "                  for m in y_pred_big]\n",
    "    y_pred_big = np.asarray(y_pred_big)\n",
    "\n",
    "    return (y_pred, y_pred_tall, y_pred_large, y_pred_big)"
   ]
  },
  {
   "cell_type": "code",
   "execution_count": null,
   "metadata": {},
   "outputs": [],
   "source": [
    "y_pred, y_pred_tall, y_pred_large, y_pred_big = \\\n",
    "    split_multi_scale(y_pred, y_shape)\n",
    "\n",
    "y_pred = (.25 * y_pred + .25 * y_pred_tall + .25 * y_pred_large\n",
    "          + .25 * y_pred_big)\n",
    "\n",
    "sys.stderr.write(\" Done (%.2fs).\\n\" % (time.time() - t0))"
   ]
  },
  {
   "cell_type": "markdown",
   "metadata": {},
   "source": [
    "Let us quantify our prediction error\n",
    "-------------------------------------\n",
    "\n"
   ]
  },
  {
   "cell_type": "code",
   "execution_count": 8,
   "metadata": {},
   "outputs": [
    {
     "name": "stdout",
     "output_type": "stream",
     "text": [
      "Scores\n",
      "------\n",
      "  - Accuracy (percent): 0.801208\n",
      "  - Precision: 0.413969\n",
      "  - Recall: 0.572388\n",
      "  - F1-score: 0.465973\n"
     ]
    },
    {
     "name": "stderr",
     "output_type": "stream",
     "text": [
      "/usr/local/lib/python3.7/site-packages/sklearn/metrics/classification.py:1144: UndefinedMetricWarning: Recall is ill-defined and being set to 0.0 due to no true samples.\n",
      "  'recall', 'true', average, warn_for)\n",
      "/usr/local/lib/python3.7/site-packages/sklearn/metrics/classification.py:1144: UndefinedMetricWarning: F-score is ill-defined and being set to 0.0 due to no true samples.\n",
      "  'recall', 'true', average, warn_for)\n"
     ]
    }
   ],
   "source": [
    "from sklearn.metrics import (accuracy_score, precision_score, recall_score,\n",
    "                             f1_score)\n",
    "\n",
    "print(\"Scores\")\n",
    "print(\"------\")\n",
    "print(\"  - Accuracy (percent): %f\" % np.mean([\n",
    "    accuracy_score(y_test[:, i], y_pred[:, i] > .5) for i in range(100)]))\n",
    "print(\"  - Precision: %f\" % np.mean([\n",
    "    precision_score(y_test[:, i], y_pred[:, i] > .5) for i in range(100)]))\n",
    "print(\"  - Recall: %f\" % np.mean([\n",
    "    recall_score(y_test[:, i], y_pred[:, i] > .5) for i in range(100)]))\n",
    "print(\"  - F1-score: %f\" % np.mean([\n",
    "    f1_score(y_test[:, i], y_pred[:, i] > .5) for i in range(100)]))"
   ]
  },
  {
   "cell_type": "markdown",
   "metadata": {},
   "source": [
    "And finally, we plot six reconstructed images, to compare with\n",
    "ground truth\n",
    "\n"
   ]
  },
  {
   "cell_type": "code",
   "execution_count": 11,
   "metadata": {},
   "outputs": [
    {
     "data": {
      "image/png": "[encoded data removed]",
      "text/plain": [
       "<Figure size 432x288 with 3 Axes>"
      ]
     },
     "metadata": {},
     "output_type": "display_data"
    },
    {
     "data": {
      "image/png": "[encoded data removed]",
      "text/plain": [
       "<Figure size 432x288 with 3 Axes>"
      ]
     },
     "metadata": {},
     "output_type": "display_data"
    },
    {
     "data": {
      "image/png": "[encoded data removed]",
      "text/plain": [
       "<Figure size 432x288 with 3 Axes>"
      ]
     },
     "metadata": {},
     "output_type": "display_data"
    },
    {
     "data": {
      "image/png": "[encoded data removed]",
      "text/plain": [
       "<Figure size 432x288 with 3 Axes>"
      ]
     },
     "metadata": {},
     "output_type": "display_data"
    },
    {
     "data": {
      "image/png": "[encoded data removed]",
      "text/plain": [
       "<Figure size 432x288 with 3 Axes>"
      ]
     },
     "metadata": {},
     "output_type": "display_data"
    },
    {
     "data": {
      "image/png": "[encoded data removed]",
      "text/plain": [
       "<Figure size 432x288 with 3 Axes>"
      ]
     },
     "metadata": {},
     "output_type": "display_data"
    }
   ],
   "source": [
    "from matplotlib import pyplot as plt\n",
    "\n",
    "\n",
    "for i in range(6):\n",
    "    j = 10 * i\n",
    "    fig = plt.figure()\n",
    "    sp1 = plt.subplot(131)\n",
    "    sp1.axis('off')\n",
    "    plt.title('Stimulus')\n",
    "    sp2 = plt.subplot(132)\n",
    "    sp2.axis('off')\n",
    "    plt.title('Reconstruction')\n",
    "    sp3 = plt.subplot(133)\n",
    "    sp3.axis('off')\n",
    "    plt.title('Binarized')\n",
    "    sp1.imshow(np.reshape(y_test[j], (10, 10)), cmap=plt.cm.gray,\n",
    "               interpolation='nearest'),\n",
    "    sp2.imshow(np.reshape(y_pred[j], (10, 10)), cmap=plt.cm.gray,\n",
    "               interpolation='nearest'),\n",
    "    sp3.imshow(np.reshape(y_pred[j] > .5, (10, 10)), cmap=plt.cm.gray,\n",
    "               interpolation='nearest')\n",
    "    plt.savefig('miyawaki2008_reconstruction_%d' % i)\n",
    "\n",
    "plt.show()"
   ]
  }
 ],
 "metadata": {
  "kernelspec": {
   "display_name": "Python 3",
   "language": "python",
   "name": "python3"
  },
  "language_info": {
   "codemirror_mode": {
    "name": "ipython",
    "version": 3
   },
   "file_extension": ".py",
   "mimetype": "text/x-python",
   "name": "python",
   "nbconvert_exporter": "python",
   "pygments_lexer": "ipython3",
   "version": "3.6.5"
  }
 },
 "nbformat": 4,
 "nbformat_minor": 1
}
