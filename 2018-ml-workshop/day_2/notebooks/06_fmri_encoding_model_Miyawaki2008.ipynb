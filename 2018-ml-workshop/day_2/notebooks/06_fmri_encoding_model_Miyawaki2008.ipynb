{
 "cells": [
  {
   "cell_type": "code",
   "execution_count": 1,
   "metadata": {},
   "outputs": [],
   "source": [
    "%matplotlib inline"
   ]
  },
  {
   "cell_type": "markdown",
   "metadata": {},
   "source": [
    "\n",
    "============================================================\n",
    "Encoding models for visual stimuli from Miyawaki et al. 2008\n",
    "============================================================\n",
    "\n",
    "This example partly reproduces the encoding model presented in [Visual image reconstruction from human brain activity using a combination of multiscale local image decoders](http://www.cell.com/neuron/abstract/S0896-6273%2808%2900958-6)\n",
    "\n",
    "Encoding models try to predict neuronal activity using information from presented stimuli, like an image or sound. Whereas decoding goes from brain data to real-world stimulus, encoding models proceed in the other direction.\n",
    "\n",
    "We demonstrate how to build such an **encoding model** in nilearn, predicting\n",
    "**fMRI data** from **visual stimuli**, using the dataset from this paper.\n",
    "\n",
    "Participants were shown images, which consisted of random 10x10 binary\n",
    "(either black or white) pixels, and the corresponding fMRI activity was\n",
    "recorded. We will try to predict the activity in each voxel\n",
    "from the binary pixel-values of the presented images. Then we extract the\n",
    "receptive fields for a set of voxels to see which pixel location a voxel\n",
    "is most sensitive to."
   ]
  },
  {
   "cell_type": "markdown",
   "metadata": {},
   "source": [
    "Loading the data\n",
    "----------------\n",
    "Now we can load the data set:\n",
    "\n"
   ]
  },
  {
   "cell_type": "code",
   "execution_count": 2,
   "metadata": {},
   "outputs": [
    {
     "name": "stderr",
     "output_type": "stream",
     "text": [
      "/anaconda3/lib/python3.6/site-packages/h5py/__init__.py:36: FutureWarning: Conversion of the second argument of issubdtype from `float` to `np.floating` is deprecated. In future, it will be treated as `np.float64 == np.dtype(float).type`.\n",
      "  from ._conv import register_converters as _register_converters\n"
     ]
    },
    {
     "name": "stdout",
     "output_type": "stream",
     "text": [
      "\n",
      "Dataset created in /Users/suesong/nilearn_data/miyawaki2008\n",
      "\n",
      "Downloading data from https://www.nitrc.org/frs/download.php/8486/miyawaki2008.tgz ...\n"
     ]
    },
    {
     "name": "stderr",
     "output_type": "stream",
     "text": [
      "Downloaded 161069109 of 161069109 bytes (100.0%,    0.0s remaining)"
     ]
    },
    {
     "ename": "FileNotFoundError",
     "evalue": "[Errno 2] No such file or directory: '/Users/suesong/nilearn_data/miyawaki2008/4356183cd5ae215342603c6edeb89f54/miyawaki2008.tgz.part'",
     "output_type": "error",
     "traceback": [
      "\u001b[0;31m---------------------------------------------------------------------------\u001b[0m",
      "\u001b[0;31mFileNotFoundError\u001b[0m                         Traceback (most recent call last)",
      "\u001b[0;32m/anaconda3/lib/python3.6/shutil.py\u001b[0m in \u001b[0;36mmove\u001b[0;34m(src, dst, copy_function)\u001b[0m\n\u001b[1;32m    543\u001b[0m     \u001b[0;32mtry\u001b[0m\u001b[0;34m:\u001b[0m\u001b[0;34m\u001b[0m\u001b[0m\n\u001b[0;32m--> 544\u001b[0;31m         \u001b[0mos\u001b[0m\u001b[0;34m.\u001b[0m\u001b[0mrename\u001b[0m\u001b[0;34m(\u001b[0m\u001b[0msrc\u001b[0m\u001b[0;34m,\u001b[0m \u001b[0mreal_dst\u001b[0m\u001b[0;34m)\u001b[0m\u001b[0;34m\u001b[0m\u001b[0m\n\u001b[0m\u001b[1;32m    545\u001b[0m     \u001b[0;32mexcept\u001b[0m \u001b[0mOSError\u001b[0m\u001b[0;34m:\u001b[0m\u001b[0;34m\u001b[0m\u001b[0m\n",
      "\u001b[0;31mFileNotFoundError\u001b[0m: [Errno 2] No such file or directory: '/Users/suesong/nilearn_data/miyawaki2008/4356183cd5ae215342603c6edeb89f54/miyawaki2008.tgz.part' -> '/Users/suesong/nilearn_data/miyawaki2008/4356183cd5ae215342603c6edeb89f54/miyawaki2008.tgz'",
      "\nDuring handling of the above exception, another exception occurred:\n",
      "\u001b[0;31mFileNotFoundError\u001b[0m                         Traceback (most recent call last)",
      "\u001b[0;32m<ipython-input-2-1ec6d794b52e>\u001b[0m in \u001b[0;36m<module>\u001b[0;34m()\u001b[0m\n\u001b[1;32m      1\u001b[0m \u001b[0;32mfrom\u001b[0m \u001b[0mnilearn\u001b[0m\u001b[0;34m.\u001b[0m\u001b[0mdatasets\u001b[0m \u001b[0;32mimport\u001b[0m \u001b[0mfetch_miyawaki2008\u001b[0m\u001b[0;34m\u001b[0m\u001b[0m\n\u001b[1;32m      2\u001b[0m \u001b[0;34m\u001b[0m\u001b[0m\n\u001b[0;32m----> 3\u001b[0;31m \u001b[0mdataset\u001b[0m \u001b[0;34m=\u001b[0m \u001b[0mfetch_miyawaki2008\u001b[0m\u001b[0;34m(\u001b[0m\u001b[0;34m)\u001b[0m\u001b[0;34m\u001b[0m\u001b[0m\n\u001b[0m",
      "\u001b[0;32m/anaconda3/lib/python3.6/site-packages/nilearn/datasets/func.py\u001b[0m in \u001b[0;36mfetch_miyawaki2008\u001b[0;34m(data_dir, url, resume, verbose)\u001b[0m\n\u001b[1;32m    645\u001b[0m     data_dir = _get_dataset_dir(dataset_name, data_dir=data_dir,\n\u001b[1;32m    646\u001b[0m                                 verbose=verbose)\n\u001b[0;32m--> 647\u001b[0;31m     \u001b[0mfiles\u001b[0m \u001b[0;34m=\u001b[0m \u001b[0m_fetch_files\u001b[0m\u001b[0;34m(\u001b[0m\u001b[0mdata_dir\u001b[0m\u001b[0;34m,\u001b[0m \u001b[0mfile_names\u001b[0m\u001b[0;34m,\u001b[0m \u001b[0mresume\u001b[0m\u001b[0;34m=\u001b[0m\u001b[0mresume\u001b[0m\u001b[0;34m,\u001b[0m \u001b[0mverbose\u001b[0m\u001b[0;34m=\u001b[0m\u001b[0mverbose\u001b[0m\u001b[0;34m)\u001b[0m\u001b[0;34m\u001b[0m\u001b[0m\n\u001b[0m\u001b[1;32m    648\u001b[0m \u001b[0;34m\u001b[0m\u001b[0m\n\u001b[1;32m    649\u001b[0m     \u001b[0;31m# Fetch the background image\u001b[0m\u001b[0;34m\u001b[0m\u001b[0;34m\u001b[0m\u001b[0m\n",
      "\u001b[0;32m/anaconda3/lib/python3.6/site-packages/nilearn/datasets/utils.py\u001b[0m in \u001b[0;36m_fetch_files\u001b[0;34m(data_dir, files, resume, mock, verbose)\u001b[0m\n\u001b[1;32m    731\u001b[0m                                   \u001b[0mpassword\u001b[0m\u001b[0;34m=\u001b[0m\u001b[0mopts\u001b[0m\u001b[0;34m.\u001b[0m\u001b[0mget\u001b[0m\u001b[0;34m(\u001b[0m\u001b[0;34m'password'\u001b[0m\u001b[0;34m,\u001b[0m \u001b[0;32mNone\u001b[0m\u001b[0;34m)\u001b[0m\u001b[0;34m,\u001b[0m\u001b[0;34m\u001b[0m\u001b[0m\n\u001b[1;32m    732\u001b[0m                                   \u001b[0mhandlers\u001b[0m\u001b[0;34m=\u001b[0m\u001b[0mopts\u001b[0m\u001b[0;34m.\u001b[0m\u001b[0mget\u001b[0m\u001b[0;34m(\u001b[0m\u001b[0;34m'handlers'\u001b[0m\u001b[0;34m,\u001b[0m \u001b[0;34m[\u001b[0m\u001b[0;34m]\u001b[0m\u001b[0;34m)\u001b[0m\u001b[0;34m,\u001b[0m\u001b[0;34m\u001b[0m\u001b[0m\n\u001b[0;32m--> 733\u001b[0;31m                                   overwrite=overwrite)\n\u001b[0m\u001b[1;32m    734\u001b[0m             \u001b[0;32mif\u001b[0m \u001b[0;34m'move'\u001b[0m \u001b[0;32min\u001b[0m \u001b[0mopts\u001b[0m\u001b[0;34m:\u001b[0m\u001b[0;34m\u001b[0m\u001b[0m\n\u001b[1;32m    735\u001b[0m                 \u001b[0;31m# XXX: here, move is supposed to be a dir, it can be a name\u001b[0m\u001b[0;34m\u001b[0m\u001b[0;34m\u001b[0m\u001b[0m\n",
      "\u001b[0;32m/anaconda3/lib/python3.6/site-packages/nilearn/datasets/utils.py\u001b[0m in \u001b[0;36m_fetch_file\u001b[0;34m(url, data_dir, resume, overwrite, md5sum, username, password, handlers, verbose)\u001b[0m\n\u001b[1;32m    570\u001b[0m         \u001b[0;32mif\u001b[0m \u001b[0;32mnot\u001b[0m \u001b[0mlocal_file\u001b[0m\u001b[0;34m.\u001b[0m\u001b[0mclosed\u001b[0m\u001b[0;34m:\u001b[0m\u001b[0;34m\u001b[0m\u001b[0m\n\u001b[1;32m    571\u001b[0m             \u001b[0mlocal_file\u001b[0m\u001b[0;34m.\u001b[0m\u001b[0mclose\u001b[0m\u001b[0;34m(\u001b[0m\u001b[0;34m)\u001b[0m\u001b[0;34m\u001b[0m\u001b[0m\n\u001b[0;32m--> 572\u001b[0;31m         \u001b[0mshutil\u001b[0m\u001b[0;34m.\u001b[0m\u001b[0mmove\u001b[0m\u001b[0;34m(\u001b[0m\u001b[0mtemp_full_name\u001b[0m\u001b[0;34m,\u001b[0m \u001b[0mfull_name\u001b[0m\u001b[0;34m)\u001b[0m\u001b[0;34m\u001b[0m\u001b[0m\n\u001b[0m\u001b[1;32m    573\u001b[0m         \u001b[0mdt\u001b[0m \u001b[0;34m=\u001b[0m \u001b[0mtime\u001b[0m\u001b[0;34m.\u001b[0m\u001b[0mtime\u001b[0m\u001b[0;34m(\u001b[0m\u001b[0;34m)\u001b[0m \u001b[0;34m-\u001b[0m \u001b[0mt0\u001b[0m\u001b[0;34m\u001b[0m\u001b[0m\n\u001b[1;32m    574\u001b[0m         \u001b[0;32mif\u001b[0m \u001b[0mverbose\u001b[0m \u001b[0;34m>\u001b[0m \u001b[0;36m0\u001b[0m\u001b[0;34m:\u001b[0m\u001b[0;34m\u001b[0m\u001b[0m\n",
      "\u001b[0;32m/anaconda3/lib/python3.6/shutil.py\u001b[0m in \u001b[0;36mmove\u001b[0;34m(src, dst, copy_function)\u001b[0m\n\u001b[1;32m    556\u001b[0m             \u001b[0mrmtree\u001b[0m\u001b[0;34m(\u001b[0m\u001b[0msrc\u001b[0m\u001b[0;34m)\u001b[0m\u001b[0;34m\u001b[0m\u001b[0m\n\u001b[1;32m    557\u001b[0m         \u001b[0;32melse\u001b[0m\u001b[0;34m:\u001b[0m\u001b[0;34m\u001b[0m\u001b[0m\n\u001b[0;32m--> 558\u001b[0;31m             \u001b[0mcopy_function\u001b[0m\u001b[0;34m(\u001b[0m\u001b[0msrc\u001b[0m\u001b[0;34m,\u001b[0m \u001b[0mreal_dst\u001b[0m\u001b[0;34m)\u001b[0m\u001b[0;34m\u001b[0m\u001b[0m\n\u001b[0m\u001b[1;32m    559\u001b[0m             \u001b[0mos\u001b[0m\u001b[0;34m.\u001b[0m\u001b[0munlink\u001b[0m\u001b[0;34m(\u001b[0m\u001b[0msrc\u001b[0m\u001b[0;34m)\u001b[0m\u001b[0;34m\u001b[0m\u001b[0m\n\u001b[1;32m    560\u001b[0m     \u001b[0;32mreturn\u001b[0m \u001b[0mreal_dst\u001b[0m\u001b[0;34m\u001b[0m\u001b[0m\n",
      "\u001b[0;32m/anaconda3/lib/python3.6/shutil.py\u001b[0m in \u001b[0;36mcopy2\u001b[0;34m(src, dst, follow_symlinks)\u001b[0m\n\u001b[1;32m    255\u001b[0m     \u001b[0;32mif\u001b[0m \u001b[0mos\u001b[0m\u001b[0;34m.\u001b[0m\u001b[0mpath\u001b[0m\u001b[0;34m.\u001b[0m\u001b[0misdir\u001b[0m\u001b[0;34m(\u001b[0m\u001b[0mdst\u001b[0m\u001b[0;34m)\u001b[0m\u001b[0;34m:\u001b[0m\u001b[0;34m\u001b[0m\u001b[0m\n\u001b[1;32m    256\u001b[0m         \u001b[0mdst\u001b[0m \u001b[0;34m=\u001b[0m \u001b[0mos\u001b[0m\u001b[0;34m.\u001b[0m\u001b[0mpath\u001b[0m\u001b[0;34m.\u001b[0m\u001b[0mjoin\u001b[0m\u001b[0;34m(\u001b[0m\u001b[0mdst\u001b[0m\u001b[0;34m,\u001b[0m \u001b[0mos\u001b[0m\u001b[0;34m.\u001b[0m\u001b[0mpath\u001b[0m\u001b[0;34m.\u001b[0m\u001b[0mbasename\u001b[0m\u001b[0;34m(\u001b[0m\u001b[0msrc\u001b[0m\u001b[0;34m)\u001b[0m\u001b[0;34m)\u001b[0m\u001b[0;34m\u001b[0m\u001b[0m\n\u001b[0;32m--> 257\u001b[0;31m     \u001b[0mcopyfile\u001b[0m\u001b[0;34m(\u001b[0m\u001b[0msrc\u001b[0m\u001b[0;34m,\u001b[0m \u001b[0mdst\u001b[0m\u001b[0;34m,\u001b[0m \u001b[0mfollow_symlinks\u001b[0m\u001b[0;34m=\u001b[0m\u001b[0mfollow_symlinks\u001b[0m\u001b[0;34m)\u001b[0m\u001b[0;34m\u001b[0m\u001b[0m\n\u001b[0m\u001b[1;32m    258\u001b[0m     \u001b[0mcopystat\u001b[0m\u001b[0;34m(\u001b[0m\u001b[0msrc\u001b[0m\u001b[0;34m,\u001b[0m \u001b[0mdst\u001b[0m\u001b[0;34m,\u001b[0m \u001b[0mfollow_symlinks\u001b[0m\u001b[0;34m=\u001b[0m\u001b[0mfollow_symlinks\u001b[0m\u001b[0;34m)\u001b[0m\u001b[0;34m\u001b[0m\u001b[0m\n\u001b[1;32m    259\u001b[0m     \u001b[0;32mreturn\u001b[0m \u001b[0mdst\u001b[0m\u001b[0;34m\u001b[0m\u001b[0m\n",
      "\u001b[0;32m/anaconda3/lib/python3.6/shutil.py\u001b[0m in \u001b[0;36mcopyfile\u001b[0;34m(src, dst, follow_symlinks)\u001b[0m\n\u001b[1;32m    118\u001b[0m         \u001b[0mos\u001b[0m\u001b[0;34m.\u001b[0m\u001b[0msymlink\u001b[0m\u001b[0;34m(\u001b[0m\u001b[0mos\u001b[0m\u001b[0;34m.\u001b[0m\u001b[0mreadlink\u001b[0m\u001b[0;34m(\u001b[0m\u001b[0msrc\u001b[0m\u001b[0;34m)\u001b[0m\u001b[0;34m,\u001b[0m \u001b[0mdst\u001b[0m\u001b[0;34m)\u001b[0m\u001b[0;34m\u001b[0m\u001b[0m\n\u001b[1;32m    119\u001b[0m     \u001b[0;32melse\u001b[0m\u001b[0;34m:\u001b[0m\u001b[0;34m\u001b[0m\u001b[0m\n\u001b[0;32m--> 120\u001b[0;31m         \u001b[0;32mwith\u001b[0m \u001b[0mopen\u001b[0m\u001b[0;34m(\u001b[0m\u001b[0msrc\u001b[0m\u001b[0;34m,\u001b[0m \u001b[0;34m'rb'\u001b[0m\u001b[0;34m)\u001b[0m \u001b[0;32mas\u001b[0m \u001b[0mfsrc\u001b[0m\u001b[0;34m:\u001b[0m\u001b[0;34m\u001b[0m\u001b[0m\n\u001b[0m\u001b[1;32m    121\u001b[0m             \u001b[0;32mwith\u001b[0m \u001b[0mopen\u001b[0m\u001b[0;34m(\u001b[0m\u001b[0mdst\u001b[0m\u001b[0;34m,\u001b[0m \u001b[0;34m'wb'\u001b[0m\u001b[0;34m)\u001b[0m \u001b[0;32mas\u001b[0m \u001b[0mfdst\u001b[0m\u001b[0;34m:\u001b[0m\u001b[0;34m\u001b[0m\u001b[0m\n\u001b[1;32m    122\u001b[0m                 \u001b[0mcopyfileobj\u001b[0m\u001b[0;34m(\u001b[0m\u001b[0mfsrc\u001b[0m\u001b[0;34m,\u001b[0m \u001b[0mfdst\u001b[0m\u001b[0;34m)\u001b[0m\u001b[0;34m\u001b[0m\u001b[0m\n",
      "\u001b[0;31mFileNotFoundError\u001b[0m: [Errno 2] No such file or directory: '/Users/suesong/nilearn_data/miyawaki2008/4356183cd5ae215342603c6edeb89f54/miyawaki2008.tgz.part'"
     ]
    }
   ],
   "source": [
    "from nilearn.datasets import fetch_miyawaki2008\n",
    "\n",
    "dataset = fetch_miyawaki2008()"
   ]
  },
  {
   "cell_type": "code",
   "execution_count": 6,
   "metadata": {},
   "outputs": [
    {
     "data": {
      "text/plain": [
       "dict_keys(['func', 'label', 'mask', 'mask_roi', 'background', 'description'])"
      ]
     },
     "execution_count": 6,
     "metadata": {},
     "output_type": "execute_result"
    }
   ],
   "source": [
    "dataset.keys()"
   ]
  },
  {
   "cell_type": "code",
   "execution_count": 7,
   "metadata": {},
   "outputs": [
    {
     "data": {
      "text/plain": [
       "['/Users/sergeyfogelson/nilearn_data/miyawaki2008/func/data_figure_run01.nii.gz',\n",
       " '/Users/sergeyfogelson/nilearn_data/miyawaki2008/func/data_figure_run02.nii.gz',\n",
       " '/Users/sergeyfogelson/nilearn_data/miyawaki2008/func/data_figure_run03.nii.gz',\n",
       " '/Users/sergeyfogelson/nilearn_data/miyawaki2008/func/data_figure_run04.nii.gz',\n",
       " '/Users/sergeyfogelson/nilearn_data/miyawaki2008/func/data_figure_run05.nii.gz',\n",
       " '/Users/sergeyfogelson/nilearn_data/miyawaki2008/func/data_figure_run06.nii.gz',\n",
       " '/Users/sergeyfogelson/nilearn_data/miyawaki2008/func/data_figure_run07.nii.gz',\n",
       " '/Users/sergeyfogelson/nilearn_data/miyawaki2008/func/data_figure_run08.nii.gz',\n",
       " '/Users/sergeyfogelson/nilearn_data/miyawaki2008/func/data_figure_run09.nii.gz',\n",
       " '/Users/sergeyfogelson/nilearn_data/miyawaki2008/func/data_figure_run10.nii.gz',\n",
       " '/Users/sergeyfogelson/nilearn_data/miyawaki2008/func/data_figure_run11.nii.gz',\n",
       " '/Users/sergeyfogelson/nilearn_data/miyawaki2008/func/data_figure_run12.nii.gz',\n",
       " '/Users/sergeyfogelson/nilearn_data/miyawaki2008/func/data_random_run01.nii.gz',\n",
       " '/Users/sergeyfogelson/nilearn_data/miyawaki2008/func/data_random_run02.nii.gz',\n",
       " '/Users/sergeyfogelson/nilearn_data/miyawaki2008/func/data_random_run03.nii.gz',\n",
       " '/Users/sergeyfogelson/nilearn_data/miyawaki2008/func/data_random_run04.nii.gz',\n",
       " '/Users/sergeyfogelson/nilearn_data/miyawaki2008/func/data_random_run05.nii.gz',\n",
       " '/Users/sergeyfogelson/nilearn_data/miyawaki2008/func/data_random_run06.nii.gz',\n",
       " '/Users/sergeyfogelson/nilearn_data/miyawaki2008/func/data_random_run07.nii.gz',\n",
       " '/Users/sergeyfogelson/nilearn_data/miyawaki2008/func/data_random_run08.nii.gz',\n",
       " '/Users/sergeyfogelson/nilearn_data/miyawaki2008/func/data_random_run09.nii.gz',\n",
       " '/Users/sergeyfogelson/nilearn_data/miyawaki2008/func/data_random_run10.nii.gz',\n",
       " '/Users/sergeyfogelson/nilearn_data/miyawaki2008/func/data_random_run11.nii.gz',\n",
       " '/Users/sergeyfogelson/nilearn_data/miyawaki2008/func/data_random_run12.nii.gz',\n",
       " '/Users/sergeyfogelson/nilearn_data/miyawaki2008/func/data_random_run13.nii.gz',\n",
       " '/Users/sergeyfogelson/nilearn_data/miyawaki2008/func/data_random_run14.nii.gz',\n",
       " '/Users/sergeyfogelson/nilearn_data/miyawaki2008/func/data_random_run15.nii.gz',\n",
       " '/Users/sergeyfogelson/nilearn_data/miyawaki2008/func/data_random_run16.nii.gz',\n",
       " '/Users/sergeyfogelson/nilearn_data/miyawaki2008/func/data_random_run17.nii.gz',\n",
       " '/Users/sergeyfogelson/nilearn_data/miyawaki2008/func/data_random_run18.nii.gz',\n",
       " '/Users/sergeyfogelson/nilearn_data/miyawaki2008/func/data_random_run19.nii.gz',\n",
       " '/Users/sergeyfogelson/nilearn_data/miyawaki2008/func/data_random_run20.nii.gz']"
      ]
     },
     "execution_count": 7,
     "metadata": {},
     "output_type": "execute_result"
    }
   ],
   "source": [
    "dataset.func"
   ]
  },
  {
   "cell_type": "code",
   "execution_count": 38,
   "metadata": {},
   "outputs": [
    {
     "data": {
      "text/plain": [
       "'/Users/sergeyfogelson/nilearn_data/miyawaki2008/bg.nii.gz'"
      ]
     },
     "execution_count": 38,
     "metadata": {},
     "output_type": "execute_result"
    }
   ],
   "source": [
    "dataset.background"
   ]
  },
  {
   "cell_type": "markdown",
   "metadata": {},
   "source": [
    "We only use the training data of this study,\n",
    "where random binary images were shown.\n",
    "\n"
   ]
  },
  {
   "cell_type": "code",
   "execution_count": 4,
   "metadata": {},
   "outputs": [],
   "source": [
    "# training data starts after the first 12 files\n",
    "fmri_random_runs_filenames = dataset.func[12:]\n",
    "stimuli_random_runs_filenames = dataset.label[12:]"
   ]
  },
  {
   "cell_type": "markdown",
   "metadata": {},
   "source": [
    "We can use :func:`nilearn.input_data.MultiNiftiMasker` to load the fMRI\n",
    "data, clean and mask it.\n",
    "\n"
   ]
  },
  {
   "cell_type": "code",
   "execution_count": 8,
   "metadata": {},
   "outputs": [],
   "source": [
    "import numpy as np\n",
    "from nilearn.input_data import MultiNiftiMasker\n",
    "\n",
    "masker = MultiNiftiMasker(mask_img=dataset.mask, detrend=True,\n",
    "                          standardize=True)\n",
    "masker.fit()\n",
    "fmri_data = masker.transform(fmri_random_runs_filenames)\n",
    "\n",
    "# shape of the binary (i.e. black and wihte values) image in pixels\n",
    "stimulus_shape = (10, 10)\n",
    "\n",
    "# We load the visual stimuli from csv files\n",
    "stimuli = []\n",
    "for stimulus_run in stimuli_random_runs_filenames:\n",
    "    stimuli.append(np.reshape(np.loadtxt(stimulus_run,\n",
    "                              dtype=np.int, delimiter=','),\n",
    "                              (-1,) + stimulus_shape, order='F'))"
   ]
  },
  {
   "cell_type": "markdown",
   "metadata": {},
   "source": [
    "Let's take a look at some of these binary images:\n",
    "\n"
   ]
  },
  {
   "cell_type": "code",
   "execution_count": 14,
   "metadata": {},
   "outputs": [
    {
     "data": {
      "image/png": "[encoded data removed]",
      "text/plain": [
       "<Figure size 576x288 with 2 Axes>"
      ]
     },
     "metadata": {},
     "output_type": "display_data"
    }
   ],
   "source": [
    "import pylab as plt\n",
    "plt.figure(figsize=(8, 4))\n",
    "plt.subplot(1, 2, 1)\n",
    "plt.imshow(stimuli[0][124], interpolation='nearest', cmap='gray')\n",
    "plt.axis('off')\n",
    "plt.title('Run {}, Stimulus {}'.format(1, 125))\n",
    "plt.subplot(1, 2, 2)\n",
    "plt.imshow(stimuli[2][102], interpolation='nearest', cmap='gray')\n",
    "plt.axis('off')\n",
    "plt.title('Run {}, Stimulus {}'.format(3, 103))\n",
    "plt.subplots_adjust(wspace=0.5)"
   ]
  },
  {
   "cell_type": "markdown",
   "metadata": {},
   "source": [
    "We now stack the fmri and stimulus data and remove an offset in the\n",
    "beginning/end.\n",
    "\n"
   ]
  },
  {
   "cell_type": "code",
   "execution_count": 15,
   "metadata": {},
   "outputs": [],
   "source": [
    "fmri_data = np.vstack([fmri_run[2:] for fmri_run in fmri_data])\n",
    "stimuli = np.vstack([stimuli_run[:-2] for stimuli_run in stimuli]).astype(float)"
   ]
  },
  {
   "cell_type": "markdown",
   "metadata": {},
   "source": [
    "fmri_data is a matrix of *samples* x *voxels*\n",
    "\n"
   ]
  },
  {
   "cell_type": "code",
   "execution_count": 16,
   "metadata": {},
   "outputs": [
    {
     "name": "stdout",
     "output_type": "stream",
     "text": [
      "(2860, 5438)\n"
     ]
    }
   ],
   "source": [
    "print(fmri_data.shape)"
   ]
  },
  {
   "cell_type": "markdown",
   "metadata": {},
   "source": [
    "We flatten the last two dimensions of stimuli\n",
    "so it is a matrix of *samples* x *pixels*.\n",
    "\n"
   ]
  },
  {
   "cell_type": "code",
   "execution_count": 17,
   "metadata": {},
   "outputs": [
    {
     "name": "stdout",
     "output_type": "stream",
     "text": [
      "(2860, 100)\n"
     ]
    }
   ],
   "source": [
    "# Flatten the stimuli\n",
    "stimuli = np.reshape(stimuli, (-1, stimulus_shape[0] * stimulus_shape[1]))\n",
    "\n",
    "print(stimuli.shape)"
   ]
  },
  {
   "cell_type": "markdown",
   "metadata": {},
   "source": [
    "Building the encoding models\n",
    "----------------------------\n",
    "We can now proceed to build a simple **voxel-wise encoding model** using [Ridge regression/L2 regularization](http://en.wikipedia.org/wiki/Tikhonov_regularization>), which we discussed on day 1. However, here for each voxel we fit an independent regression model, as opposed to a classification model. We will attempt to predict a given fmri voxel's value using the pixel-values of the visual stimuli (each pixel being a feature for the regression model)."
   ]
  },
  {
   "cell_type": "code",
   "execution_count": 18,
   "metadata": {},
   "outputs": [],
   "source": [
    "from sklearn.linear_model import Ridge\n",
    "from sklearn.model_selection import KFold"
   ]
  },
  {
   "cell_type": "markdown",
   "metadata": {},
   "source": [
    "Using 10-fold cross-validation, we partition the data into 10 'folds'.\n",
    "We hold out each fold of the data for testing, then fit a ridge regression\n",
    "to the remaining 9/10 of the data, using stimuli as predictors\n",
    "and fmri_data as targets, and create predictions for the held-out 10th.\n",
    "\n"
   ]
  },
  {
   "cell_type": "code",
   "execution_count": 19,
   "metadata": {},
   "outputs": [],
   "source": [
    "from sklearn.metrics import r2_score\n",
    "\n",
    "estimator = Ridge(alpha=100.)\n",
    "cv = KFold(n_splits=10)\n",
    "\n",
    "scores = []\n",
    "for train, test in cv.split(X=stimuli):\n",
    "    # we train the Ridge estimator on the training set\n",
    "    # and predict the fMRI activity for the test set\n",
    "    predictions = Ridge(alpha=100.).fit(\n",
    "    stimuli.reshape(-1, 100)[train], fmri_data[train]).predict(\n",
    "        stimuli.reshape(-1, 100)[test])\n",
    "    # we compute how much variance our encoding model explains in each voxel\n",
    "    scores.append(r2_score(fmri_data[test], predictions, multioutput='raw_values'))"
   ]
  },
  {
   "cell_type": "markdown",
   "metadata": {},
   "source": [
    "Mapping the encoding scores on the brain\n",
    "----------------------------------------\n",
    "To plot the scores onto the brain, we create a Nifti1Image containing\n",
    "the scores and then threshold it:\n",
    "\n"
   ]
  },
  {
   "cell_type": "code",
   "execution_count": 39,
   "metadata": {},
   "outputs": [],
   "source": [
    "from nilearn.image import threshold_img,new_img_like, load_img, index_img\n",
    "from nilearn.plotting import plot_img, show\n",
    "\n",
    "cut_score = np.mean(scores, axis=0)\n",
    "cut_score[cut_score < 0] = 0\n",
    "\n",
    "# bring the scores into the shape of the background brain\n",
    "score_map_img = masker.inverse_transform(cut_score)\n",
    "\n",
    "thresholded_score_map_img = threshold_img(score_map_img, threshold=1e-6)"
   ]
  },
  {
   "cell_type": "code",
   "execution_count": 40,
   "metadata": {},
   "outputs": [],
   "source": [
    "subj1_anat = load_img(dataset.background)"
   ]
  },
  {
   "cell_type": "code",
   "execution_count": 41,
   "metadata": {},
   "outputs": [],
   "source": [
    "from functools import partial # need this to properly be able to show the background anat\n",
    "\n",
    "#passing in a parameter called bg_img to plot_img to make a partially applied function\n",
    "#this allows us to see the epi on subj1_anat data\n",
    "plot_img_part = partial(plot_img,bg_img=subj1_anat) "
   ]
  },
  {
   "cell_type": "code",
   "execution_count": 43,
   "metadata": {},
   "outputs": [
    {
     "data": {
      "text/plain": [
       "<Figure size 432x288 with 0 Axes>"
      ]
     },
     "metadata": {},
     "output_type": "display_data"
    },
    {
     "data": {
      "application/vnd.jupyter.widget-view+json": {
       "model_id": "35a1f6b86f07419ab43496f4143cd38b",
       "version_major": 2,
       "version_minor": 0
      },
      "text/plain": [
       "interactive(children=(FloatSlider(value=0.35000000000000003, description='threshold', max=0.7, min=0.01, step=…"
      ]
     },
     "metadata": {},
     "output_type": "display_data"
    }
   ],
   "source": [
    "from niwidgets import NiftiWidget\n",
    "\n",
    "subj_enc_widg = NiftiWidget(thresholded_score_map_img)\n",
    "subj_enc_widg.nifti_plotter(plotting_func=plot_img_part, threshold=(0.01, 0.7, 0.01),\n",
    "                   display_mode=['ortho','xz'])"
   ]
  },
  {
   "cell_type": "markdown",
   "metadata": {},
   "source": [
    "Plotting the statistical map on a background brain, we mark four voxels which we will inspect more closely later on."
   ]
  },
  {
   "cell_type": "code",
   "execution_count": 44,
   "metadata": {},
   "outputs": [
    {
     "name": "stderr",
     "output_type": "stream",
     "text": [
      "/usr/local/lib/python3.7/site-packages/matplotlib/cbook/deprecation.py:107: MatplotlibDeprecationWarning: Adding an axes using the same arguments as a previous axes currently reuses the earlier instance.  In a future version, a new instance will always be created and returned.  Meanwhile, this warning can be suppressed, and the future behavior ensured, by passing a unique label to each axes instance.\n",
      "  warnings.warn(message, mplDeprecation, stacklevel=1)\n"
     ]
    },
    {
     "data": {
      "image/png": "[encoded data removed]",
      "text/plain": [
       "<Figure size 864x864 with 2 Axes>"
      ]
     },
     "metadata": {},
     "output_type": "display_data"
    }
   ],
   "source": [
    "from nilearn.plotting import plot_stat_map\n",
    "from nilearn.image import coord_transform\n",
    "\n",
    "def index_to_xy_coord(x, y, z=10):\n",
    "    '''Transforms data index to coordinates of the background + offset'''\n",
    "    coords = coord_transform(x, y, z,\n",
    "                             affine=thresholded_score_map_img.affine)\n",
    "    return np.array(coords)[np.newaxis, :] + np.array([0, 1, 0])\n",
    "\n",
    "\n",
    "xy_indices_of_special_voxels = [(30, 10), (32, 10), (31, 9), (31, 10)]\n",
    "\n",
    "display = plot_stat_map(thresholded_score_map_img, bg_img=dataset.background,\n",
    "                        cut_coords=[-8], display_mode='z', aspect=1.25,\n",
    "                        title='Explained variance per voxel')\n",
    "\n",
    "# creating a marker for each voxel and adding it to the statistical map\n",
    "\n",
    "for i, (x, y) in enumerate(xy_indices_of_special_voxels):\n",
    "    display.add_markers(index_to_xy_coord(x, y), marker_color='none',\n",
    "                        edgecolor=['b', 'r', 'magenta', 'g'][i],\n",
    "                        marker_size=140, marker='s',\n",
    "                        facecolor='none', lw=4.5)\n",
    "\n",
    "\n",
    "# re-set figure size after construction so colorbar gets rescaled too\n",
    "fig = plt.gcf()\n",
    "fig.set_size_inches(12, 12)"
   ]
  },
  {
   "cell_type": "markdown",
   "metadata": {},
   "source": [
    "Estimating receptive fields\n",
    "---------------------------\n",
    "Now we take a closer look at the receptive fields of the four marked voxels.\n",
    "A voxel's [receptive field](http://en.wikipedia.org/wiki/Receptive_field) is the region of a stimulus (like an image) where the presence of an object, like a white instead of a black pixel, results in a change in activity in the voxel. In our case the receptive field is just the vector of 100 regression  coefficients (one for each pixel) reshaped into the 10x10 form of the original images. Some voxels are receptive to only very few\n",
    "pixels, so we use [Lasso regression/L1 regularization](http://en.wikipedia.org/wiki/Lasso_(statistics)) to estimate a sparse  set of regression coefficients."
   ]
  },
  {
   "cell_type": "code",
   "execution_count": 46,
   "metadata": {},
   "outputs": [
    {
     "data": {
      "text/plain": [
       "<matplotlib.colorbar.Colorbar at 0x123295518>"
      ]
     },
     "execution_count": 46,
     "metadata": {},
     "output_type": "execute_result"
    },
    {
     "data": {
      "image/png": "[encoded data removed]",
      "text/plain": [
       "<Figure size 864x576 with 8 Axes>"
      ]
     },
     "metadata": {},
     "output_type": "display_data"
    }
   ],
   "source": [
    "from sklearn.linear_model import LassoLarsCV\n",
    "\n",
    "# automatically estimate the sparsity by cross-validation\n",
    "lasso = LassoLarsCV(max_iter=10)\n",
    "\n",
    "# Mark the same pixel in each receptive field\n",
    "marked_pixel = (4, 2)\n",
    "\n",
    "from matplotlib import gridspec\n",
    "from matplotlib.patches import Rectangle\n",
    "\n",
    "fig = plt.figure(figsize=(12, 8))\n",
    "fig.suptitle('Receptive fields of the marked voxels', fontsize=25)\n",
    "\n",
    "# GridSpec allows us to do subplots with more control of the spacing\n",
    "gs1 = gridspec.GridSpec(2, 3)\n",
    "\n",
    "# we fit the Lasso for each of the three voxels of the upper row\n",
    "for i, index in enumerate([1780, 1951, 2131]):\n",
    "    ax = plt.subplot(gs1[0, i])\n",
    "    # we reshape the coefficients into the form of the original images\n",
    "    rf = lasso.fit(stimuli, fmri_data[:, index]).coef_.reshape((10, 10))\n",
    "    # add a black background\n",
    "    ax.imshow(np.zeros_like(rf), vmin=0., vmax=1., cmap='gray')\n",
    "    ax_im = ax.imshow(np.ma.masked_less(rf, 0.05), interpolation=\"nearest\",\n",
    "                      cmap=['Blues', 'Greens', 'Reds'][i], vmin=0., vmax=0.75)\n",
    "    # add the marked pixel\n",
    "    ax.add_patch(Rectangle(\n",
    "        (marked_pixel[1] - .5, marked_pixel[0] - .5), 1, 1,\n",
    "        facecolor='none', edgecolor='r', lw=4))\n",
    "    plt.axis('off')\n",
    "    plt.colorbar(ax_im, ax=ax);\n",
    "\n",
    "# and then for the voxel at the bottom\n",
    "\n",
    "gs1.update(left=0., right=1., wspace=0.1)\n",
    "ax = plt.subplot(gs1[1, 1])\n",
    "# we reshape the coefficients into the form of the original images\n",
    "rf = lasso.fit(stimuli, fmri_data[:, 1935]).coef_.reshape((10, 10))\n",
    "ax.imshow(np.zeros_like(rf), vmin=0., vmax=1., cmap='gray')\n",
    "ax_im = ax.imshow(np.ma.masked_less(rf, 0.1), interpolation=\"nearest\",\n",
    "                  cmap='RdPu', vmin=0., vmax=0.75)\n",
    "\n",
    "# add the marked pixel\n",
    "ax.add_patch(Rectangle(\n",
    "    (marked_pixel[1] - .5, marked_pixel[0] - .5), 1, 1,\n",
    "    facecolor='none', edgecolor='r', lw=4))\n",
    "plt.axis('off')\n",
    "plt.colorbar(ax_im, ax=ax);"
   ]
  },
  {
   "cell_type": "markdown",
   "metadata": {},
   "source": [
    "The receptive fields of the four voxels are not only close to each other,\n",
    "the relative location of the pixel each voxel is most sensitive to\n",
    "roughly maps to the relative location of the voxels to each other.\n",
    "We can see a relationship between some voxel's receptive field and\n",
    "its location in the brain.\n",
    "\n"
   ]
  }
 ],
 "metadata": {
  "kernelspec": {
   "display_name": "Python 3",
   "language": "python",
   "name": "python3"
  },
  "language_info": {
   "codemirror_mode": {
    "name": "ipython",
    "version": 3
   },
   "file_extension": ".py",
   "mimetype": "text/x-python",
   "name": "python",
   "nbconvert_exporter": "python",
   "pygments_lexer": "ipython3",
   "version": "3.6.5"
  }
 },
 "nbformat": 4,
 "nbformat_minor": 1
}
